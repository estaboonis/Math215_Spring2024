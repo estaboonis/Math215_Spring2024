{
 "cells": [
  {
   "cell_type": "markdown",
   "metadata": {
    "id": "vN_CX8eoI-3U"
   },
   "source": [
    "# Midterm 2, due on Sunday, 04/21 at 11:59pm.\n",
    "\n",
    "This is a takehome exam. You can refer to any course resource we've had so far.\n",
    "\n",
    "For each question, your work will be graded based on a few testing inputs. For incompleted code, partial credit will be given.\n",
    "\n",
    "25 points in total:\n",
    "\n",
    "\n",
    "*   5 points from Q1\n",
    "*   5 points from Q2\n",
    "*   10 points from Q3\n",
    "*   5 points from Q4\n"
   ]
  },
  {
   "cell_type": "markdown",
   "metadata": {
    "id": "P65iJFYnJEh8"
   },
   "source": [
    "## **Question 0**:\n",
    "\n",
    "Download the notebook to your computer, rename it as `Last_First_Math215_Midterm2.ipynb`, and work within Anaconda -> Jupyter Notebook.\n",
    "\n",
    "Run the following cell first."
   ]
  },
  {
   "cell_type": "code",
   "execution_count": 71,
   "metadata": {
    "id": "k-zarrZwJboU"
   },
   "outputs": [
    {
     "name": "stdin",
     "output_type": "stream",
     "text": [
      "What's your Lastname?  Cristelli\n",
      "What's your Firstname?  Aaron\n"
     ]
    },
    {
     "name": "stdout",
     "output_type": "stream",
     "text": [
      "\n",
      "Student's Name: Aaron Cristelli.\n",
      "\n"
     ]
    }
   ],
   "source": [
    "last_name = input(\"What's your Lastname? \")\n",
    "first_name = input(\"What's your Firstname? \")\n",
    "print()\n",
    "print(f\"Student's Name: {first_name} {last_name}.\\n\")"
   ]
  },
  {
   "cell_type": "markdown",
   "metadata": {
    "id": "t-7vF-89Z8pz"
   },
   "source": [
    "## **Question 1** (5 points)\n",
    "Write a function that reads a list of words. Then, the program prompts out those words and their frequencies (case insensitive), one pair a line.\n",
    "\n",
    "If the input is:\n",
    "\n",
    "`hey Hi Mark hi mark`\n",
    "\n",
    "the output should be:\n",
    "```\n",
    "hey 1\n",
    "hi 2\n",
    "mark 2\n",
    "\n",
    "```\n",
    "\n"
   ]
  },
  {
   "cell_type": "code",
   "execution_count": 72,
   "metadata": {
    "id": "31AYZpYLZ9lW"
   },
   "outputs": [
    {
     "name": "stdin",
     "output_type": "stream",
     "text": [
      " hey Hi Mark hi mark\n"
     ]
    },
    {
     "name": "stdout",
     "output_type": "stream",
     "text": [
      "hey 1\n",
      "hi 2\n",
      "mark 2\n"
     ]
    }
   ],
   "source": [
    "def word_freq(str):\n",
    "    str = str.lower()\n",
    "    str = str.split()\n",
    "    str_list = []\n",
    "\n",
    "    for i in str:\n",
    "        if i not in str_list:\n",
    "            str_list.append(i)\n",
    "\n",
    "    for i in range(0, len(str_list)):\n",
    "            print(str_list[i], str.count(str_list[i]))\n",
    "        \n",
    "\n",
    "def main():\n",
    "    str = input()\n",
    "    word_freq(str)\n",
    "\n",
    "if __name__ == \"__main__\":\n",
    "    main()       \n"
   ]
  },
  {
   "cell_type": "markdown",
   "metadata": {
    "id": "ITAQdAnQbEeg"
   },
   "source": [
    "## **Question 2** (5 points)\n",
    "\n",
    "In class, we've seen how to use `dictionary` to store polynomials and how to print them out nicely.\n",
    "\n",
    "Review the cell below from class and run it to see the results.\n",
    "\n",
    "\n"
   ]
  },
  {
   "cell_type": "code",
   "execution_count": 73,
   "metadata": {
    "id": "QYDJ0h5LUE9d"
   },
   "outputs": [
    {
     "name": "stdout",
     "output_type": "stream",
     "text": [
      "3.0 x^5 + 8.3 x^2 + 4.0\n",
      "-6.5 x^4 - 12.0 x^2 + 15.0\n"
     ]
    }
   ],
   "source": [
    "import math\n",
    "# Create p(x) = 3x^5 + 8.3x^2 + 4\n",
    "poly_1 = {}\n",
    "poly_1[5] = 3\n",
    "poly_1[2] = 8.3\n",
    "poly_1[0] = 4\n",
    "\n",
    "\n",
    "\n",
    "# Create p(x) = -6.5x^4 - 12 x^2 + 15\n",
    "poly_2 = {}\n",
    "poly_2[4] = - 6.5\n",
    "poly_2[2] = - 12\n",
    "poly_2[0] = 15\n",
    "\n",
    "\n",
    "def print_poly(p_original):\n",
    "    # delete the constant term\n",
    "    #store before deletion\n",
    "    p = p_original.copy()\n",
    "    p0=\"\"\n",
    "    if 0 in p.keys():\n",
    "        p0 = p[0]\n",
    "        del p[0]\n",
    "    \n",
    "    terms = [f'{p[k]:.1f} x^{k}' for k in sorted(p) ]\n",
    "    terms.reverse()\n",
    "    # add the constant term without x\n",
    "    if p0 != \"\":\n",
    "        terms += [f'{p0:.1f}']\n",
    "        \n",
    "    answer = ' + '.join(terms)\n",
    "    answer = answer.replace('+ -', '- ')\n",
    "    answer = answer.replace('x^1 ', 'x ')\n",
    "    \n",
    "    print(answer)\n",
    "\n",
    "print_poly(poly_1)\n",
    "print_poly(poly_2)\n"
   ]
  },
  {
   "cell_type": "markdown",
   "metadata": {
    "id": "2jLPIxHldXC1"
   },
   "source": [
    "**Task** modify the `print_poly()` function so that in the printed out string, the + and - signs are corrected merged.\n",
    "\n",
    "For instance, the output of `print_poly(poly_2)` currently is\n",
    "\n",
    "`-6.5 x^4 + -12.0 x^2 + 15.0`\n",
    "\n",
    "After your modification, it should be\n",
    "`-6.5 x^4 - 12.0 x^2 + 15.0`\n",
    "\n",
    "**After you are done, re-run the cells above and below.**"
   ]
  },
  {
   "cell_type": "markdown",
   "metadata": {
    "id": "bO3n6pqJbnUY"
   },
   "source": [
    "We also did **Addition** and **Derivative** for polynomials."
   ]
  },
  {
   "cell_type": "code",
   "execution_count": 74,
   "metadata": {
    "id": "e932peeebwZD"
   },
   "outputs": [
    {
     "name": "stdout",
     "output_type": "stream",
     "text": [
      "3.0 x^5 - 6.5 x^4 - 3.7 x^2 + 19.0\n"
     ]
    }
   ],
   "source": [
    "# addition\n",
    "def add_polys(p1, p2):\n",
    "    # Add the polynomials stored in dictionaries p1 and p2\n",
    "    p3 = {}\n",
    "    for key in p1.keys():\n",
    "        p3[key] = p1[key]\n",
    "\n",
    "    for i in p2.keys():\n",
    "        if i in p3.keys():\n",
    "            p3[i] += p2[i]\n",
    "        else:\n",
    "            p3[i] = p2[i]\n",
    "    # your code here\n",
    "    return p3\n",
    "\n",
    "# To test\n",
    "poly_3 = add_polys(poly_1, poly_2)\n",
    "print_poly(poly_3)  # should be 3x^5 - 6.5x^4 - 3.7 x^2 + 19"
   ]
  },
  {
   "cell_type": "code",
   "execution_count": 75,
   "metadata": {
    "id": "qA9C24w1b0FF"
   },
   "outputs": [
    {
     "name": "stdout",
     "output_type": "stream",
     "text": [
      "3.0 x^5 - 6.5 x^4 - 3.7 x^2 + 19.0\n",
      "15.0 x^4 - 26.0 x^3 - 7.4 x^1\n"
     ]
    }
   ],
   "source": [
    "# Derivative\n",
    "def poly_deriv(p):\n",
    "    # return the derivative of p as a dictionary polynomial\n",
    "    dp = {}\n",
    "    # your code here\n",
    "    \n",
    "    for key in p.keys():\n",
    "        if key != 0:\n",
    "            dp[key - 1] = key * p[key]\n",
    "\n",
    "    return dp\n",
    "\n",
    "# To test\n",
    "poly_3 = add_polys(poly_1, poly_2)\n",
    "print_poly(poly_3)\n",
    "print_poly(poly_deriv(poly_3))\n"
   ]
  },
  {
   "cell_type": "markdown",
   "metadata": {
    "id": "uvkkEw2HhevV"
   },
   "source": [
    "Review them before proceeding to Question 3."
   ]
  },
  {
   "cell_type": "markdown",
   "metadata": {
    "id": "xAmAwZxvbE-2"
   },
   "source": [
    "## **Question 3**: Integration (10 points)\n",
    "\n",
    "Write a function that does numerical integration of a polynomial. We use the midpoint Riemann sum. You may review it [here](https://www.khanacademy.org/math/ap-calculus-ab/ab-integration-new/ab-6-2/a/riemann-sums-review#:~:text=In%20a%20midpoint%20Riemann%20sum,the%20midpoint%20of%20its%20base.&text=We%20can%20also%20use%20trapezoids,both%20of%20its%20top%20vertices.).\n",
    "\n",
    "Inputs:\n",
    "*   a polynomial dictionary `poly`\n",
    "*   a list `[a,b]`, where `a` and `b` as integration bounds. Assume $a < b$.\n",
    "*   number of sub-intervals\n",
    "\n",
    "Output:\n",
    "*   The number for $\\int_a^b p(x) dx$.\n",
    "\n",
    "For instance,\n",
    "\n",
    "\n",
    "*   `integral_mid(poly_1, [1, 2], 100)` gives `54.8656600065625`\n",
    "*   `integral_mid(poly_2, [-1, 3], 100)` gives `−369.145068608`\n",
    "\n",
    "\n",
    "\n"
   ]
  },
  {
   "cell_type": "code",
   "execution_count": 76,
   "metadata": {
    "id": "77uFja7DEbyr"
   },
   "outputs": [
    {
     "name": "stdout",
     "output_type": "stream",
     "text": [
      "1\n",
      "1\n"
     ]
    }
   ],
   "source": [
    "def integral_mid(poly, bounds, num_intervals):\n",
    "    poly = {}\n",
    "    a = int()\n",
    "    b = int()\n",
    "    \n",
    "    bounds = [a, b]\n",
    "    dx = int(bounds[1] - bounds[0]) / num_intervals\n",
    "\n",
    "    integral = 1\n",
    "    for i in poly.keys():\n",
    "        for integral in range(a, b):\n",
    "            xi = a + (i - 1)*dx\n",
    "            x += (x + xi) / 2\n",
    "            midpoint_riemann = p[i]*x*dx\n",
    "    return integral\n",
    "\n",
    "print(integral_mid(poly_1, [1, 2], 100))\n",
    "print(integral_mid(poly_1, [-1, 3], 100))"
   ]
  },
  {
   "cell_type": "markdown",
   "metadata": {
    "id": "-u4Vt0dMq7AG"
   },
   "source": [
    "## **Question 4**: class `Course` (5 points)\n",
    "\n",
    "Complete the `Course` class by implementing the `drop_student()` instance method (from line 21), which removes a student (by last name) from the course roster. If the student is not found in the course roster, no student should be dropped. Assume all students have distinct last names."
   ]
  },
  {
   "cell_type": "code",
   "execution_count": 77,
   "metadata": {
    "id": "2rfymsXmtubO"
   },
   "outputs": [],
   "source": [
    "class Student:\n",
    "    def __init__(self, first, last, gpa):\n",
    "        self.first = first # first name\n",
    "        self.last = last   # last name\n",
    "        self.gpa = gpa     # grade point average\n",
    "\n",
    "    def get_gpa(self):\n",
    "        return self.gpa\n",
    "\n",
    "    def get_last(self):\n",
    "        return self.last\n",
    "\n",
    "    def to_string(self):\n",
    "        return self.first + ' ' + self.last + ' (GPA: ' + str(self.gpa) + ')'\n",
    "\n",
    "class Course:\n",
    "    def __init__(self):\n",
    "        self.roster = []  # list of Student objects\n",
    "\n",
    "    def drop_student(self, student_last_name):\n",
    "        for student in self.roster:\n",
    "            if student.get_last() == student_last_name:\n",
    "                self.roster.remove(student)\n",
    "                break\n",
    "\n",
    "    def add_student(self, student):\n",
    "        self.roster.append(student)\n",
    "\n",
    "    def count_students(self):\n",
    "        return len(self.roster)"
   ]
  },
  {
   "cell_type": "markdown",
   "metadata": {
    "id": "d7ahC6XZt9b_"
   },
   "source": [
    "**Testing:** for the following students:\n",
    "\n",
    "\n",
    "```\n",
    "Henry Nguyen 3.5\n",
    "Brenda Stern 2.0\n",
    "Lynda Robison 3.2\n",
    "Sonya King 3.9\n",
    "```\n",
    "\n",
    "The output from the testing code (dropping Brenda Stern) is:\n",
    "\n",
    "\n",
    "```\n",
    "Course size: 4 students\n",
    "Course size after drop: 3 students\n",
    "```"
   ]
  },
  {
   "cell_type": "code",
   "execution_count": 78,
   "metadata": {
    "id": "Sqv6Ih0Qt3bp"
   },
   "outputs": [
    {
     "name": "stdout",
     "output_type": "stream",
     "text": [
      "Course size: 4 students\n",
      "Course size after drop: 3 students\n"
     ]
    }
   ],
   "source": [
    "# Testing unit. Run without change\n",
    "course = Course()\n",
    "\n",
    "course.add_student(Student('Henry', 'Nguyen', 3.5))\n",
    "course.add_student(Student('Brenda', 'Stern', 2.0))\n",
    "course.add_student(Student('Lynda', 'Robinson', 3.2))\n",
    "course.add_student(Student('Sonya', 'King', 3.9))\n",
    "\n",
    "print(f'Course size: { course.count_students() } students')\n",
    "course.drop_student('Stern')\n",
    "print(f'Course size after drop: { course.count_students() } students')"
   ]
  },
  {
   "cell_type": "markdown",
   "metadata": {
    "id": "jmyYkXueTkhS"
   },
   "source": [
    "# Submission\n",
    "\n",
    "*   Re-run all cells from the beginning to make sure the results are there.\n",
    "*   Save the last version of the notebook as a .ipynb file with proper file name.\n",
    "*   Submit the file on Sakai -> Gradescope (you can also go straight to www.gradescope.com) to Midterm 2.\n",
    "*   Click into Midterm 2 -> code and **double check** if the submitted file is accurate. **No submission after the Midterm will be taken.**\n",
    "\n"
   ]
  },
  {
   "cell_type": "code",
   "execution_count": null,
   "metadata": {
    "id": "JSpBuUDJkJH2"
   },
   "outputs": [],
   "source": []
  }
 ],
 "metadata": {
  "colab": {
   "provenance": []
  },
  "kernelspec": {
   "display_name": "Python 3 (ipykernel)",
   "language": "python",
   "name": "python3"
  },
  "language_info": {
   "codemirror_mode": {
    "name": "ipython",
    "version": 3
   },
   "file_extension": ".py",
   "mimetype": "text/x-python",
   "name": "python",
   "nbconvert_exporter": "python",
   "pygments_lexer": "ipython3",
   "version": "3.11.7"
  }
 },
 "nbformat": 4,
 "nbformat_minor": 4
}
