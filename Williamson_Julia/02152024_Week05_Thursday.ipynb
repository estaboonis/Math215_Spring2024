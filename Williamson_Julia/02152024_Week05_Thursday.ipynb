{
  "nbformat": 4,
  "nbformat_minor": 0,
  "metadata": {
    "colab": {
      "provenance": []
    },
    "kernelspec": {
      "name": "python3",
      "display_name": "Python 3"
    },
    "language_info": {
      "name": "python"
    }
  },
  "cells": [
    {
      "cell_type": "markdown",
      "source": [
        "# Use `Anaconda` if possible"
      ],
      "metadata": {
        "id": "uXjETh6F_Yi8"
      }
    },
    {
      "cell_type": "markdown",
      "source": [
        "# functions in Python\n",
        "\n",
        "We have used many functions by now: `print()`, `math.sqrt()`, `max()`, `range()`, `enumerate()`, ...\n",
        "\n",
        "Why shall we use functions in any programming?\n",
        "\n",
        "1.   **Modularity**: Functions allow you to break down complex processes into smaller, manageable pieces. This modular approach makes it easier to write, read, and debug code.\n",
        "\n",
        "2.   **Reusability**: Once you've defined a function, you can reuse it multiple times throughout your code. This avoids repetition and makes your code more concise and easier to maintain.\n",
        "\n",
        "3.   **Organization**: Functions help organize your code into logical sections. Each function performs a specific task, making it easier to follow the flow of the program.\n",
        "\n",
        "4.   **Abstraction**: Functions allow you to abstract away the details of a particular task. Users of the function don't need to know how the function does what it does; they only need to know what parameters it accepts and what it returns. This simplifies the use of complex operations.\n",
        "\n",
        "5.   **Mathematics**!\n",
        "\n",
        "6.  Many more...\n",
        "\n"
      ],
      "metadata": {
        "id": "Uk-6_vVTq46T"
      }
    },
    {
      "cell_type": "markdown",
      "source": [
        "Defining Functions"
      ],
      "metadata": {
        "id": "uHlDuEsbuZA9"
      }
    },
    {
      "cell_type": "code",
      "source": [
        "def greet():\n",
        "    print(\"Hello, World!\")"
      ],
      "metadata": {
        "id": "8SMR97O4uLzy"
      },
      "execution_count": null,
      "outputs": []
    },
    {
      "cell_type": "markdown",
      "source": [
        "Calling Functions"
      ],
      "metadata": {
        "id": "uq4XLM2Eubif"
      }
    },
    {
      "cell_type": "code",
      "source": [
        "greet()"
      ],
      "metadata": {
        "id": "bUbTINeGuVL1"
      },
      "execution_count": null,
      "outputs": []
    },
    {
      "cell_type": "markdown",
      "source": [
        "Parameters and Arguments:\n",
        "\n",
        "*   **Parameters**: listed in the function's definition\n",
        "*   **Arguments**: values passed to the function\n",
        "\n",
        "`return`: output value"
      ],
      "metadata": {
        "id": "LYohh4KBuhWj"
      }
    },
    {
      "cell_type": "code",
      "source": [
        "# define the function f(x, y) = 3xy - ay^2, where a = 4\n",
        "\n",
        "def f(x, y):\n",
        "    a = 4\n",
        "    return 3*x*y - a*y**2"
      ],
      "metadata": {
        "id": "p831-0hbux21"
      },
      "execution_count": null,
      "outputs": []
    },
    {
      "cell_type": "code",
      "source": [
        "f(1,2)"
      ],
      "metadata": {
        "id": "49v-fHHMvWvl"
      },
      "execution_count": null,
      "outputs": []
    },
    {
      "cell_type": "markdown",
      "source": [
        "Make sure you use good naming convention for function names (e.g. snake_case)"
      ],
      "metadata": {
        "id": "iuPr1J0avZTY"
      }
    },
    {
      "cell_type": "code",
      "source": [
        "def greet(name):\n",
        "    print(f\"Hello, {name}!\")\n",
        "\n",
        "my_name = input(\"Type in your name: \")\n",
        "greet(my_name)"
      ],
      "metadata": {
        "id": "8eCmYLnPv0zW"
      },
      "execution_count": null,
      "outputs": []
    },
    {
      "cell_type": "markdown",
      "source": [
        "arguments can be anything! We can return multiple values!"
      ],
      "metadata": {
        "id": "PpYjUnWdvufm"
      }
    },
    {
      "cell_type": "code",
      "source": [
        "def min_max(listA):\n",
        "    return max(listA), min(listA)\n",
        "\n",
        "my_list = [i for i in range(3, 11)]\n",
        "M, m = min_max(my_list)\n",
        "print(m, M)"
      ],
      "metadata": {
        "id": "L2Z2cs1-vYI8"
      },
      "execution_count": null,
      "outputs": []
    },
    {
      "cell_type": "markdown",
      "source": [
        "### Example 1: Flow of control"
      ],
      "metadata": {
        "id": "-Klgb4kBxSPS"
      }
    },
    {
      "cell_type": "code",
      "source": [
        "# Demonstrate flow of control with functions\n",
        "\n",
        "def f1(): #5  , 11\n",
        "    print('in f1') #6,  12\n",
        "\n",
        "def f2():#8\n",
        "    print('in f2')#9\n",
        "    f1() #10\n",
        "\n",
        "def f3():\n",
        "    print('in f3')\n",
        "    f1()\n",
        "    f2()\n",
        "\n",
        "def main(): #2\n",
        "    print('in main') #3\n",
        "    f1() #4\n",
        "    f2() #7\n",
        "#f1()\n",
        "main()  #1"
      ],
      "metadata": {
        "id": "w05mbZzHxSWe"
      },
      "execution_count": null,
      "outputs": []
    },
    {
      "cell_type": "code",
      "source": [
        "def f4():\n",
        "    for i in range(1, 10):\n",
        "        print(\"i = \", i)\n",
        "        if i % 5 == 0:\n",
        "            break\n",
        "    return i\n",
        "\n",
        "print(f4())"
      ],
      "metadata": {
        "id": "DR_5yeCp3qul"
      },
      "execution_count": null,
      "outputs": []
    },
    {
      "cell_type": "code",
      "source": [
        "def f4():\n",
        "    for i in range(1, 10):\n",
        "        print(\"i = \", i)\n",
        "        if i % 5 == 0:\n",
        "            return i\n",
        "\n",
        "print(f4())"
      ],
      "metadata": {
        "id": "ekwfmXzm4Llb"
      },
      "execution_count": null,
      "outputs": []
    },
    {
      "cell_type": "markdown",
      "source": [
        "### Example 2: Dynamic typing and Polymorphism"
      ],
      "metadata": {
        "id": "Dr_T6W_Bx-La"
      }
    },
    {
      "cell_type": "code",
      "source": [
        "import math\n",
        "\n",
        "def f(x):  # what is the type of x? x only exists inside f\n",
        "    print(\"Inside function f, type(x) = \", type(x))  # x = True is boolean\n",
        "    return 3*x  # x is promoted to be an integer, True = 1, False = 0\n",
        "\n",
        "def main():\n",
        "    print(\"f(5) = \", f(5))\n",
        "    print()\n",
        "\n",
        "    print(\"f(math.pi) = \", f(math.pi))\n",
        "    print()\n",
        "\n",
        "    print(\"f(\\\"abc\\\") = \", f(\"abc\"))\n",
        "    print()\n",
        "\n",
        "    print(\"f([5, 6, 7]) = \", f([5, 6, 7]))\n",
        "    print()\n",
        "\n",
        "    print(\"f((5, 6, 7)) = \", f((5, 6, 7)))\n",
        "    print()\n",
        "\n",
        "    print(\"f(True) = \", f(True))\n",
        "    print()\n",
        "\n",
        "    print(\"f(False) = \", f(False))\n",
        "    print()\n",
        "\n",
        "    print(\"int(True) = \", int(True))\n",
        "    print()\n",
        "\n",
        "    print(\"int(False) = \", int(False))\n",
        "    print()\n",
        "\n",
        "main()\n"
      ],
      "metadata": {
        "id": "YXwmbBiix-Sy"
      },
      "execution_count": null,
      "outputs": []
    },
    {
      "cell_type": "markdown",
      "source": [
        "## Exercise 1: Write a Function to Calculate the Area of a Circle\n",
        "\n",
        "Your function should take an argument of the radius, and return the area as the output"
      ],
      "metadata": {
        "id": "stDrd61yCsD7"
      }
    },
    {
      "cell_type": "code",
      "source": [
        "import math\n",
        "\n",
        "def area(radius):\n",
        "    # your code here\n",
        "    return math.pi * radius**2\n",
        "    # return y\n"
      ],
      "metadata": {
        "id": "5ucreHK5CslO"
      },
      "execution_count": null,
      "outputs": []
    },
    {
      "cell_type": "code",
      "source": [
        "# when you are done, run this to test your function\n",
        "\n",
        "if round(area(4), 4) == 50.2655:\n",
        "    print(\"Pass!\")\n",
        "else:\n",
        "    print(\"Fail!\")"
      ],
      "metadata": {
        "id": "lelxRzWI0FfY",
        "colab": {
          "base_uri": "https://localhost:8080/"
        },
        "outputId": "02b5b7a8-4a8c-472f-edf6-81f0b6f6eff1"
      },
      "execution_count": null,
      "outputs": [
        {
          "output_type": "stream",
          "name": "stdout",
          "text": [
            "Pass!\n"
          ]
        }
      ]
    },
    {
      "cell_type": "markdown",
      "source": [
        "## Exercise 2: Create a Function to Convert Temperature from Celsius to Fahrenheit\n",
        "\n",
        "Fahrenheit = (Celsius * 9/5) + 32.\n",
        "\n",
        "Your function should take an argument of the Celsius degree, and\n",
        "\n",
        "*   print out the input in a reasonable way\n",
        "*   print out the result in a reasonable way\n",
        "*   return the Fahrenheit\n",
        "\n"
      ],
      "metadata": {
        "id": "BvsgWOcz0oBW"
      }
    },
    {
      "cell_type": "code",
      "source": [
        "def celsius_to_fahren(celsius_degree):\n",
        "    # your code here\n",
        "    return (celsius_degree * 9/5) + 32\n"
      ],
      "metadata": {
        "id": "IV_dOMAW0RU9"
      },
      "execution_count": null,
      "outputs": []
    },
    {
      "cell_type": "code",
      "source": [
        "# when you are done, run this to test your function\n",
        "\n",
        "if celsius_to_fahren(-100) == -148 and celsius_to_fahren(100) == 212:\n",
        "    print(\"Pass!\")\n",
        "else:\n",
        "    print(\"Fail!\")"
      ],
      "metadata": {
        "id": "oBZBstzm1Htt",
        "colab": {
          "base_uri": "https://localhost:8080/"
        },
        "outputId": "ea1c59ea-7d6a-4c6a-db2d-43e47b900e4d"
      },
      "execution_count": null,
      "outputs": [
        {
          "output_type": "stream",
          "name": "stdout",
          "text": [
            "Pass!\n"
          ]
        }
      ]
    },
    {
      "cell_type": "markdown",
      "source": [
        "### Exercise 3: Write a Function that Reverses a String\n",
        "\n",
        "The function should accept a string as a parameter and return the reversed string."
      ],
      "metadata": {
        "id": "Cw6HgCbf1jSV"
      }
    },
    {
      "cell_type": "code",
      "source": [
        "def str_reverse():\n",
        "    # your code here\n",
        "\n"
      ],
      "metadata": {
        "id": "Gtsx-56p1jaR"
      },
      "execution_count": null,
      "outputs": []
    },
    {
      "cell_type": "code",
      "source": [
        "# when you are done, run this to test your function\n",
        "\n",
        "\n",
        "import random\n",
        "desired_length = 50\n",
        "nucleotides = 'ACTG'\n",
        "randomDNA_list = []\n",
        "\n",
        "for k in range(desired_length):\n",
        "    randomDNA_list.append(random.choice(nucleotides))\n",
        "\n",
        "randomDNA_str = ''.join(randomDNA_list)\n",
        "\n",
        "\n",
        "if str_reverse(randomDNA_str) == randomDNA_str[::-1]:\n",
        "    print(\"Pass!\")\n",
        "else:\n",
        "    print(\"Fail!\")"
      ],
      "metadata": {
        "id": "1zV-KJvV1jhX"
      },
      "execution_count": null,
      "outputs": []
    },
    {
      "cell_type": "markdown",
      "source": [
        "For the rest: compare your output with your neighbors'."
      ],
      "metadata": {
        "id": "HnUdJOdx2Qea"
      }
    },
    {
      "cell_type": "markdown",
      "source": [
        "## Exercise 4: Implement a Function to Calculate the Factorial of a positive integer\n",
        "\n"
      ],
      "metadata": {
        "id": "dkDHkCrJG9rf"
      }
    },
    {
      "cell_type": "code",
      "source": [],
      "metadata": {
        "id": "-grYSKGPHAYO"
      },
      "execution_count": null,
      "outputs": []
    },
    {
      "cell_type": "markdown",
      "source": [
        "## Exercise 5: Write a function that takes a list and returns a new list with unique elements of the first list (delete all redundant elements)\n",
        "\n"
      ],
      "metadata": {
        "id": "3DVHPA4jwMTJ"
      }
    },
    {
      "cell_type": "code",
      "source": [],
      "metadata": {
        "id": "5_Xt4YZTwP68"
      },
      "execution_count": null,
      "outputs": []
    },
    {
      "cell_type": "markdown",
      "source": [
        "### Exercise 6: Write a function to check if a string is a palindrome.\n",
        "\n",
        "A palindrome is a word, phrase, or sequence that reads the same backward as forward.\n",
        "\n",
        "Hint: you can call the function in Exercise 3."
      ],
      "metadata": {
        "id": "9hbaoQMz22sC"
      }
    },
    {
      "cell_type": "code",
      "source": [],
      "metadata": {
        "id": "IgoLXrAn3JAk"
      },
      "execution_count": null,
      "outputs": []
    },
    {
      "cell_type": "markdown",
      "source": [
        "### Exercise 7: Create a function to check if a positive integer is prime"
      ],
      "metadata": {
        "id": "bk4b4Dox3KYG"
      }
    },
    {
      "cell_type": "code",
      "source": [],
      "metadata": {
        "id": "E1PLAeCd4Xia"
      },
      "execution_count": null,
      "outputs": []
    }
  ]
}