{
  "nbformat": 4,
  "nbformat_minor": 0,
  "metadata": {
    "colab": {
      "provenance": []
    },
    "kernelspec": {
      "name": "python3",
      "display_name": "Python 3"
    },
    "language_info": {
      "name": "python"
    }
  },
  "cells": [
    {
      "cell_type": "markdown",
      "source": [
        "## Math 215 Programming Assignment 4 Template  (40 points)\n",
        "\n",
        "Rename this notebook properly. Use Anaconda for this PA."
      ],
      "metadata": {
        "id": "U618aSIrHjXG"
      }
    },
    {
      "cell_type": "markdown",
      "source": [
        "## Problem 1 (12 points)  \n",
        "\n",
        "Complete the implementation of a `Circle` class.\n",
        "\n",
        "*  Constructor:  `def __init__(self, center_x = 0, center_y = 0, radius = 0):`\n",
        "\n",
        "*  String method:  `def __str__(self)`\n",
        "\n",
        "*  Area:  `def area(self)`\n",
        "\n",
        "*  Contains:  `def contains(self, other)`:\n",
        "\n",
        "*  Intersects:  `def intersects(self, other)`:\n",
        "\n",
        "*  Less Than:  `def __lt__(self, other):`  Compare based on the circle's radius\n",
        "\n"
      ],
      "metadata": {
        "id": "MG4mrfyovZhJ"
      }
    },
    {
      "cell_type": "code",
      "source": [
        "import math\n",
        "\n",
        "class Circle:\n",
        "    def __init__(self, center_x = 0, center_y = 0, radius = 0):\n",
        "        #print('To do: implement constructor')\n",
        "        self.center_x = center_x\n",
        "        self.center_y = center_y\n",
        "        self.radius = radius\n",
        "\n",
        "    def __str__(self):\n",
        "        #print('To do: implement string method')\n",
        "        return f\"Circle with center ({self.center_x},{self.center_y}) with radius {self.radius}.\"\n",
        "\n",
        "    def area(self):\n",
        "        #print('To do: implement area')\n",
        "        return (math.pi * (self.radius ** 2))\n",
        "\n",
        "    def intersects(self, other):\n",
        "        #print('To do: implement intersects')\n",
        "        if self.center_x < other.center_x:\n",
        "          if (self.center_x + self.radius) > other.center_x:\n",
        "            if self.center_y < other.center_y:\n",
        "              if (self.center_y + self.radius) > other.center_y:\n",
        "                return True\n",
        "            elif self.center_y > other.center_y:\n",
        "              if (self.center_y - self.radius) < other.center_y:\n",
        "                return True\n",
        "        elif self.center_x > other.center_x:\n",
        "          if (self.center_x - self.radius) < other.center_x:\n",
        "            if self.center_y < other.center_y:\n",
        "              if (self.center_y + self.radius) > other.center_y:\n",
        "                return True\n",
        "            elif self.center_y > other.center_y:\n",
        "              if (self.center_y - self.radius) < other.center_y:\n",
        "                return True\n",
        "        elif self.center_x == other.center_x:\n",
        "          return True\n",
        "        elif self.center_y == other.center_y:\n",
        "          return True\n",
        "        return False\n",
        "\n",
        "    def contains(self, other):\n",
        "        if self.center_x < other.center_x:\n",
        "          if (self.center_x + self.radius) > (other.center_x+other.radius):\n",
        "            if self.center_y < other.center_y:\n",
        "              if (self.center_y + self.radius) > (other.center_y+other.radius):\n",
        "                return True\n",
        "            elif self.center_y > other.center_y:\n",
        "              if (self.center_y - self.radius) < (other.center_y-other.radius):\n",
        "                return True\n",
        "        elif self.center_x > other.center_x:\n",
        "          if (self.center_x - self.radius) < (other.center_x+other.radius):\n",
        "            if self.center_y < other.center_y:\n",
        "              if (self.center_y + self.radius) > (other.center_y+other.radius):\n",
        "                return True\n",
        "            elif self.center_y > other.center_y:\n",
        "              if (self.center_y - self.radius) < (other.center_y - other.radius):\n",
        "                return True\n",
        "        if self.center_x == other.center_x:\n",
        "          if self.radius >= other.radius:\n",
        "            return True\n",
        "        if self.center_y == other.center_y:\n",
        "          if self.radius >= other.radius:\n",
        "            return True\n",
        "        return False\n",
        "\n",
        "    def __lt__(self, other):\n",
        "    # compare by radius\n",
        "        if self.radius < other.radius:\n",
        "          return True\n",
        "        return False\n",
        "\n"
      ],
      "metadata": {
        "id": "l2wDQHQvu-iE"
      },
      "execution_count": null,
      "outputs": []
    },
    {
      "cell_type": "markdown",
      "source": [
        "Testing code for Circle class.  Run the following cell without modification.\n",
        "\n",
        "\n",
        "\n",
        "\n"
      ],
      "metadata": {
        "id": "NqqqfyEnP8fH"
      }
    },
    {
      "cell_type": "code",
      "source": [
        "#Testing code for Circle class\n",
        "circle_list = []\n",
        "n = 2\n",
        "circle_list = [Circle(1, 1, 1), Circle(2, 1, 0.5), Circle(6, 6, 1), Circle(7, 6, 3), Circle(10, 10, 10), Circle(10, 10, 20)]\n",
        "\n",
        "print(f'Testing constructor, __str__ and area')\n",
        "for c in circle_list:\n",
        "    print(f'\\t{c} has area {c.area():.2f}')\n",
        "\n",
        "print('\\nTesting contains:', end = '')\n",
        "for c1 in circle_list:\n",
        "    print(f'\\n\\t{c1}. Results for contains:')\n",
        "    print('\\t\\t', end = '')\n",
        "    for c2 in circle_list:\n",
        "        print(c1.contains(c2), end = ' ')\n",
        "    print()\n",
        "\n",
        "print('\\nTesting intersects:', end = '')\n",
        "for c1 in circle_list:\n",
        "    print(f'\\n\\t{c1}.  Results for  intersects:')\n",
        "    print('\\t\\t', end = '')\n",
        "    for c2 in circle_list:\n",
        "        print(c1.intersects(c2), end = ' ')\n",
        "    print()\n",
        "\n",
        "print(f'\\nTesting less than with a reverse order sort')\n",
        "circles_in_decreasing_order = sorted(circle_list, reverse = True)\n",
        "for c in sorted(circle_list, reverse = True):\n",
        "    print(f'\\t{c}')"
      ],
      "metadata": {
        "id": "dQz-xq2mPaeT",
        "outputId": "145f9d61-aaf7-4b16-edfa-602284bb5d51",
        "colab": {
          "base_uri": "https://localhost:8080/"
        }
      },
      "execution_count": null,
      "outputs": [
        {
          "output_type": "stream",
          "name": "stdout",
          "text": [
            "Testing constructor, __str__ and area\n",
            "\tCircle with center (1,1) with radius 1. has area 3.14\n",
            "\tCircle with center (2,1) with radius 0.5. has area 0.79\n",
            "\tCircle with center (6,6) with radius 1. has area 3.14\n",
            "\tCircle with center (7,6) with radius 3. has area 28.27\n",
            "\tCircle with center (10,10) with radius 10. has area 314.16\n",
            "\tCircle with center (10,10) with radius 20. has area 1256.64\n",
            "\n",
            "Testing contains:\n",
            "\tCircle with center (1,1) with radius 1.. Results for contains:\n",
            "\t\tTrue True False False False False \n",
            "\n",
            "\tCircle with center (2,1) with radius 0.5.. Results for contains:\n",
            "\t\tFalse True False False False False \n",
            "\n",
            "\tCircle with center (6,6) with radius 1.. Results for contains:\n",
            "\t\tFalse False True False False False \n",
            "\n",
            "\tCircle with center (7,6) with radius 3.. Results for contains:\n",
            "\t\tFalse False True True False False \n",
            "\n",
            "\tCircle with center (10,10) with radius 10.. Results for contains:\n",
            "\t\tFalse True True True True False \n",
            "\n",
            "\tCircle with center (10,10) with radius 20.. Results for contains:\n",
            "\t\tTrue True True True True True \n",
            "\n",
            "Testing intersects:\n",
            "\tCircle with center (1,1) with radius 1..  Results for  intersects:\n",
            "\t\tTrue False False False False False \n",
            "\n",
            "\tCircle with center (2,1) with radius 0.5..  Results for  intersects:\n",
            "\t\tFalse True False False False False \n",
            "\n",
            "\tCircle with center (6,6) with radius 1..  Results for  intersects:\n",
            "\t\tFalse False True False False False \n",
            "\n",
            "\tCircle with center (7,6) with radius 3..  Results for  intersects:\n",
            "\t\tFalse False False True False False \n",
            "\n",
            "\tCircle with center (10,10) with radius 10..  Results for  intersects:\n",
            "\t\tTrue True True True True True \n",
            "\n",
            "\tCircle with center (10,10) with radius 20..  Results for  intersects:\n",
            "\t\tTrue True True True True True \n",
            "\n",
            "Testing less than with a reverse order sort\n",
            "\tCircle with center (10,10) with radius 20.\n",
            "\tCircle with center (10,10) with radius 10.\n",
            "\tCircle with center (7,6) with radius 3.\n",
            "\tCircle with center (1,1) with radius 1.\n",
            "\tCircle with center (6,6) with radius 1.\n",
            "\tCircle with center (2,1) with radius 0.5.\n"
          ]
        }
      ]
    },
    {
      "cell_type": "markdown",
      "source": [
        "## Problem 2  (6 points)  \n",
        "\n",
        "Write an application that uses your Circle class.  \n",
        "\n",
        "Complete each of the following tasks:\n",
        "\n",
        "2.1  Create 10 concentric circles\n",
        "\n",
        "2.2  Make a visual display of the circles using `matplotlib.pyplot`.  Draw your circle in different colors with the largest one drawn first\n",
        "\n"
      ],
      "metadata": {
        "id": "DlocnmvAxNab"
      }
    },
    {
      "cell_type": "code",
      "source": [
        "import matplotlib.pyplot as plt\n",
        "\n",
        "#define Matplotlib figure and axis\n",
        "fig, axes = plt.subplots()\n",
        "\n",
        "axes.set_aspect( 1 )\n",
        "axes.set_xlim(-10, 15)\n",
        "axes.set_ylim(-10, 15)\n",
        "\n",
        "colors = ['brown','black','grey','red','orange','yellow','green','blue','purple','pink']\n",
        "#add circle to plot\n",
        "for n in range(10):\n",
        "  axes.add_patch(plt.Circle((2, 2), n,\n",
        "                #edgecolor = 'red',\n",
        "                facecolor = colors[n],\n",
        "                alpha = 0.2,\n",
        "                fill=True,\n",
        "                lw=2))\n",
        "\n",
        "#display plot\n",
        "plt.show()"
      ],
      "metadata": {
        "id": "pLP4Dh6B0nPV",
        "outputId": "51ffa5b6-cbd1-49e6-8f53-2aebe3b32cf0",
        "colab": {
          "base_uri": "https://localhost:8080/",
          "height": 435
        }
      },
      "execution_count": null,
      "outputs": [
        {
          "output_type": "display_data",
          "data": {
            "text/plain": [
              "<Figure size 640x480 with 1 Axes>"
            ],
            "image/png": "[encoded data removed]"
          },
          "metadata": {}
        }
      ]
    },
    {
      "cell_type": "markdown",
      "source": [
        "## Problem 3 (14 points)  \n",
        "\n",
        "Working with a large csv file.  Reading Data from a file - using the Chicago Crimes map data\n",
        "\n",
        "https://data.cityofchicago.org/Public-Safety/Crimes-Map/dfnk-7re6\n",
        "\n",
        "3.1  Write a program to read in the Chicago Crime Map csv file and answer these questions:\n",
        "\n",
        "* Which BLOCK had the most crimes?\n",
        "\n",
        "* How many cases of Arson occurred in the city past year?  (check for Arson in primary or secondary description)\n",
        "\n",
        "* Which block had the highest incidence of arson?\n",
        "\n",
        "3.2  Make a meaningful graphic display (a bar chart or a line graph) of some aspect of the data.  Include a textbox explaining what you are showing.\n",
        "\n"
      ],
      "metadata": {
        "id": "eKzV-JOvHU_u"
      }
    },
    {
      "cell_type": "code",
      "source": [
        "import csv\n",
        "import numpy as np\n",
        "import matplotlib.pyplot as plt\n",
        "#class Crime:\n",
        "  #def __init__(self, case, date, block, icur, primary, secondary, location, arrest, domestic, beat, ward, fbicd,x,y,lat,long,loc):\n",
        "    #self.block = block\n",
        "    #self.secondary = secondary\n",
        "    #self.primary = primary\n",
        "with open('Crimes_-_Map.csv', 'r') as csvfile:\n",
        "  crimecount = {}\n",
        "  arson = 0\n",
        "  arsoncount = {}\n",
        "  my_reader = list(csv.reader(csvfile, delimiter=','))\n",
        "  for row in my_reader:\n",
        "    place = row[2]\n",
        "    if place in crimecount:\n",
        "      crimecount[place] += 1\n",
        "    else:\n",
        "      crimecount[place] = 1\n",
        "  crimesorted =(sorted(crimecount.items(), key=lambda x:x[1]))\n",
        "  print(f\"{crimesorted[-1][0]} had the most crimes, with {crimesorted[-1][1]} reported in the past year.\")\n",
        "  for row in my_reader:\n",
        "    if ('ARSON' in row[4]) or ('ARSON' in row[5]):\n",
        "      place = row[2]\n",
        "      arson += 1\n",
        "      if place in arsoncount:\n",
        "        arsoncount[place] += 1\n",
        "      else:\n",
        "        arsoncount[place] = 1\n",
        "  arsonsorted =(sorted(arsoncount.items(), key=lambda x:x[1]))\n",
        "  print(f\"{arson} arson related crimes reported in the last year.\")\n",
        "  print(f\"{arsonsorted[-1][0]} had the most arson related crimes, with {arsonsorted[-1][1]}\"\n",
        "          \" reported in the past year.\")\n",
        "\n",
        "  #STILL NEEDS TO MAKE MEANINGFUL GRAPH!!!\n",
        "  time_list = {}\n",
        "  for row in my_reader:\n",
        "    time = str(row[1])\n",
        "    time_24 = 'none'\n",
        "    if time[20:21] == \"A\":\n",
        "      time_24 = int(time[11:13])\n",
        "    elif time[20:21] == \"P\":\n",
        "      time_24 = int(time[11:13]) + 12\n",
        "    if time_24 in time_list:\n",
        "      time_list[time_24] += 1\n",
        "    else:\n",
        "      time_list[time_24] = 0\n",
        "  #print(time_list)\n",
        "#Plotting time!\n",
        "#print(list(time_list.values()))\n",
        "del time_list['none']\n",
        "time_list_numbers =(sorted(time_list.keys()))\n",
        "sorted_time_list = {}\n",
        "for k in time_list_numbers:\n",
        "  sorted_time_list[str(k)] = time_list[k]\n",
        "print()\n",
        "\n",
        "fig = plt.figure(figsize = (10, 5))\n",
        "plt.bar(sorted_time_list.keys(),list(sorted_time_list.values()), color ='blue', width = 1, edgecolor ='black')\n",
        "plt.title(\"Number of crimes reported at each hour of the day\")\n",
        "plt.xlabel(\"Time (In Military Time)\")\n",
        "plt.ylabel(\"Number of crimes reported\")"
      ],
      "metadata": {
        "id": "ziTAF5fy5Yl1",
        "outputId": "05c8b805-27db-4b6a-a5d0-4d67db62dcff",
        "colab": {
          "base_uri": "https://localhost:8080/",
          "height": 574
        }
      },
      "execution_count": 69,
      "outputs": [
        {
          "output_type": "stream",
          "name": "stdout",
          "text": [
            "001XX N STATE ST had the most crimes, with 816 reported in the past year.\n",
            "581 arson related crimes reported in the last year.\n",
            "085XX S MARQUETTE AVE had the most arson related crimes, with 7 reported in the past year.\n",
            "\n"
          ]
        },
        {
          "output_type": "execute_result",
          "data": {
            "text/plain": [
              "Text(0, 0.5, 'Number of crimes reported')"
            ]
          },
          "metadata": {},
          "execution_count": 69
        },
        {
          "output_type": "display_data",
          "data": {
            "text/plain": [
              "<Figure size 1000x500 with 1 Axes>"
            ],
            "image/png": "[encoded data removed]"
          },
          "metadata": {}
        }
      ]
    },
    {
      "cell_type": "markdown",
      "source": [
        "## Problem 4 (8 points)  \n",
        "\n",
        "Complete the implementation of the `Element` class for an atomic element, read the data from elements.csv and create a dictionary, keyed by atomic number for the elements.\n",
        "\n",
        "4.1  Complete the Element class.  Your class should have instance variables for the element's name, atomic number, abbreviation and atomic weight.  You should include a constructor, a string method and a less than comparison, based on atomic number.\n",
        "\n",
        "4.2  Read the elements from the csv file elements.csv and create a dictionary keyed by atomic number.  The corresponding value is the created instance of `Element` class."
      ],
      "metadata": {
        "id": "llXD85mE2D3C"
      }
    },
    {
      "cell_type": "code",
      "source": [
        "import csv\n",
        "\n",
        "\n",
        "elements_table = {}\n",
        "class Element:\n",
        "  def __init__(self, name, number, abbr, weight):\n",
        "    self.name = name\n",
        "    self.number = number\n",
        "    self.abbr = abbr\n",
        "    self.weight = weight\n",
        "  def __str__(self):\n",
        "    return(f\"Name: {self.name}, Number: {self.number}, Abbr: {self.abbr}, Weight: {self.weight}\")\n",
        "with open('elements.csv', 'r') as csvfile:\n",
        "    my_reader = list(csv.reader(csvfile, delimiter=','))\n",
        "    for row in my_reader:\n",
        "      elements_table[int(row[1])] = str(Element(row[0],row[1],row[2],row[3]))\n",
        "print(elements_table)"
      ],
      "metadata": {
        "id": "fUwpz57IeOP_",
        "colab": {
          "base_uri": "https://localhost:8080/"
        },
        "outputId": "bc54aac9-226e-41ec-9ad2-0e55de7f37ba"
      },
      "execution_count": 73,
      "outputs": [
        {
          "output_type": "stream",
          "name": "stdout",
          "text": [
            "{1: 'Name: Hydrogen, Number: 1, Abbr: H, Weight: 1.01', 2: 'Name: Helium, Number: 2, Abbr: He, Weight: 4', 3: 'Name: Lithium, Number: 3, Abbr: Li, Weight: 6.94', 4: 'Name: Beryllium, Number: 4, Abbr: Be, Weight: 9.01', 5: 'Name: Boron, Number: 5, Abbr: B, Weight: 10.81', 6: 'Name: Carbon, Number: 6, Abbr: C, Weight: 12.01', 7: 'Name: Nitrogen, Number: 7, Abbr: N, Weight: 14.01', 8: 'Name: Oxygen, Number: 8, Abbr: O, Weight: 16', 9: 'Name: Fluorine, Number: 9, Abbr: F, Weight: 19', 10: 'Name: Neon, Number: 10, Abbr: Ne, Weight: 20.18', 11: 'Name: Sodium, Number: 11, Abbr: Na, Weight: 22.99', 12: 'Name: Magnesium, Number: 12, Abbr: Mg, Weight: 24.31', 13: 'Name: Aluminum, Number: 13, Abbr: Al, Weight: 26.98', 14: 'Name: Silicon, Number: 14, Abbr: Si, Weight: 28.09', 15: 'Name: Phosphorus, Number: 15, Abbr: P, Weight: 30.98', 16: 'Name: Sulfur, Number: 16, Abbr: S, Weight: 32.06', 17: 'Name: Chlorine, Number: 17, Abbr: Cl, Weight: 35.45', 18: 'Name: Argon, Number: 18, Abbr: Ar, Weight: 39.95', 19: 'Name: Potassium, Number: 19, Abbr: K, Weight: 39.1', 20: 'Name: Calcium, Number: 20, Abbr: Ca, Weight: 40.08', 21: 'Name: Scandium, Number: 21, Abbr: Sc, Weight: 44.96', 22: 'Name: Titanium, Number: 22, Abbr: Ti, Weight: 47.9', 23: 'Name: Vanadium, Number: 23, Abbr: V, Weight: 50.94', 24: 'Name: Chromium, Number: 24, Abbr: Cr, Weight: 52', 25: 'Name: Manganese, Number: 25, Abbr: Mn, Weight: 54.94', 26: 'Name: Iron, Number: 26, Abbr: Fe, Weight: 55.85', 27: 'Name: Cobalt, Number: 27, Abbr: Co, Weight: 58.93', 28: 'Name: Nickel, Number: 28, Abbr: Ni, Weight: 58.71', 29: 'Name: Copper, Number: 29, Abbr: Cu, Weight: 63.54', 30: 'Name: Zinc, Number: 30, Abbr: Zn, Weight: 65.37', 31: 'Name: Gallium, Number: 31, Abbr: Ga, Weight: 69.72', 32: 'Name: Germanium, Number: 32, Abbr: Ge, Weight: 72.59', 33: 'Name: Arsenic, Number: 33, Abbr: As, Weight: 74.99', 34: 'Name: Selenium, Number: 34, Abbr: Se, Weight: 78.96', 35: 'Name: Bromine, Number: 35, Abbr: Br, Weight: 79.91', 36: 'Name: Krypton, Number: 36, Abbr: Kr, Weight: 83.8', 37: 'Name: Rubidium, Number: 37, Abbr: Rb, Weight: 85.47', 38: 'Name: Strontium, Number: 38, Abbr: Sr, Weight: 87.62', 39: 'Name: Yttrium, Number: 39, Abbr: Y, Weight: 88.91', 40: 'Name: Zirconium, Number: 40, Abbr: Zr, Weight: 91.22', 41: 'Name: Niobium, Number: 41, Abbr: Nb, Weight: 92.91', 42: 'Name: Molybdenum, Number: 42, Abbr: Mo, Weight: 95.94', 43: 'Name: Technetium, Number: 43, Abbr: Tc, Weight: 96.91', 44: 'Name: Ruthenium, Number: 44, Abbr: Ru, Weight: 101.07', 45: 'Name: Rhodium, Number: 45, Abbr: Rh, Weight: 102.9', 46: 'Name: Palladium, Number: 46, Abbr: Pd, Weight: 106.4', 47: 'Name: Silver, Number: 47, Abbr: Ag, Weight: 107.87', 48: 'Name: Cadmium, Number: 48, Abbr: Cd, Weight: 112.4', 49: 'Name: Indium, Number: 49, Abbr: In, Weight: 114.82', 50: 'Name: Tin, Number: 50, Abbr: Sn, Weight: 118.69', 51: 'Name: Antimony, Number: 51, Abbr: Sb, Weight: 121.75', 52: 'Name: Tellurium, Number: 52, Abbr: Te, Weight: 127.6', 53: 'Name: Iodine, Number: 53, Abbr: I, Weight: 126.9', 54: 'Name: Xenon, Number: 54, Abbr: Xe, Weight: 131.3', 55: 'Name: Cesium, Number: 55, Abbr: Cs, Weight: 132.9', 56: 'Name: Barium, Number: 56, Abbr: Ba, Weight: 137.34', 57: 'Name: Lanthanum, Number: 57, Abbr: La, Weight: 138.91', 58: 'Name: Cerium, Number: 58, Abbr: Ce, Weight: 140.12', 59: 'Name: Praseodymium, Number: 59, Abbr: Pr, Weight: 140.91', 60: 'Name: Neodymium, Number: 60, Abbr: Nd, Weight: 144.24', 61: 'Name: Promethium, Number: 61, Abbr: Pm, Weight: 144.91', 62: 'Name: Samarium, Number: 62, Abbr: Sm, Weight: 150.35', 63: 'Name: Europium, Number: 63, Abbr: Eu, Weight: 151.96', 64: 'Name: Gadolinium, Number: 64, Abbr: Gd, Weight: 157.25', 65: 'Name: Terbium, Number: 65, Abbr: Tb, Weight: 158.92', 66: 'Name: Dysprosium, Number: 66, Abbr: Dy, Weight: 162.5', 67: 'Name: Holmium, Number: 67, Abbr: Ho, Weight: 164.93', 68: 'Name: Erbium, Number: 68, Abbr: Er, Weight: 167.26', 69: 'Name: Thulium, Number: 69, Abbr: Tm, Weight: 168.93', 70: 'Name: Ytterbium, Number: 70, Abbr: Yb, Weight: 173.04', 71: 'Name: Lutetium, Number: 71, Abbr: Lu, Weight: 174.97', 72: 'Name: Hafnium, Number: 72, Abbr: Hf, Weight: 178.49', 73: 'Name: Tantalum, Number: 73, Abbr: Ta, Weight: 180.95', 74: 'Name: Wolfram, Number: 74, Abbr: W, Weight: 183.85', 75: 'Name: Rhenium, Number: 75, Abbr: Re, Weight: 186.2', 76: 'Name: Osmium, Number: 76, Abbr: Os, Weight: 190.2', 77: 'Name: Iridium, Number: 77, Abbr: Ir, Weight: 192.22', 78: 'Name: Platinum, Number: 78, Abbr: Pt, Weight: 195.09', 79: 'Name: Gold, Number: 79, Abbr: Au, Weight: 196.97', 80: 'Name: Mercury, Number: 80, Abbr: Hg, Weight: 200.59', 81: 'Name: Thallium, Number: 81, Abbr: Tl, Weight: 204.37', 82: 'Name: Lead, Number: 82, Abbr: Pb, Weight: 207.19', 83: 'Name: Bismuth, Number: 83, Abbr: Bi, Weight: 208.98', 84: 'Name: Polonium, Number: 84, Abbr: Po, Weight: 208.98', 85: 'Name: Astatine, Number: 85, Abbr: At, Weight: 209.99', 86: 'Name: Radon, Number: 86, Abbr: Rn, Weight: 222.02', 87: 'Name: Francium, Number: 87, Abbr: Fr, Weight: 223.02', 88: 'Name: Radium, Number: 88, Abbr: Ra, Weight: 226', 89: 'Name: Actinium, Number: 89, Abbr: Ac, Weight: 227.03', 90: 'Name: Thorium, Number: 90, Abbr: Th, Weight: 232.04', 91: 'Name: Protactinium, Number: 91, Abbr: Pa, Weight: 231.04', 92: 'Name: Uranium, Number: 92, Abbr: U, Weight: 238.03', 93: 'Name: Neptunium, Number: 93, Abbr: Np, Weight: 237', 94: 'Name: Plutonium, Number: 94, Abbr: Pu, Weight: 242', 95: 'Name: Americium, Number: 95, Abbr: Am, Weight: 243.06', 96: 'Name: Curium, Number: 96, Abbr: Cm, Weight: 247.07', 97: 'Name: Berkelium, Number: 97, Abbr: Bk, Weight: 247.07', 98: 'Name: Californium, Number: 98, Abbr: Cf, Weight: 251.08', 99: 'Name: Einsteinium, Number: 99, Abbr: Es, Weight: 254.09', 100: 'Name: Fermium, Number: 100, Abbr: Fm, Weight: 257.1', 101: 'Name: Mendelevium, Number: 101, Abbr: Md, Weight: 257.1', 102: 'Name: Nobelium, Number: 102, Abbr: No, Weight: 255.09', 103: 'Name: Lawrencium, Number: 103, Abbr: Lr, Weight: 256.1'}\n"
          ]
        }
      ]
    },
    {
      "cell_type": "markdown",
      "source": [
        "Testing code for problem 4.  Call your dictionary `elements_table`.  Run the cell below with modification."
      ],
      "metadata": {
        "id": "sHp3btS4cm1y"
      }
    },
    {
      "cell_type": "code",
      "source": [
        "print(f'{type(elements_table)}')\n",
        "print(f'{type(elements_table[1])}')\n",
        "print(f'{len(elements_table)}')\n",
        "for n in range(1,len(elements_table)+1):\n",
        "    print(elements_table[n])"
      ],
      "metadata": {
        "id": "8M9eP0Kkclu5",
        "colab": {
          "base_uri": "https://localhost:8080/"
        },
        "outputId": "ec82fd0a-2d1e-4eab-8319-87f196813f46"
      },
      "execution_count": 74,
      "outputs": [
        {
          "output_type": "stream",
          "name": "stdout",
          "text": [
            "<class 'dict'>\n",
            "<class 'str'>\n",
            "103\n",
            "Name: Hydrogen, Number: 1, Abbr: H, Weight: 1.01\n",
            "Name: Helium, Number: 2, Abbr: He, Weight: 4\n",
            "Name: Lithium, Number: 3, Abbr: Li, Weight: 6.94\n",
            "Name: Beryllium, Number: 4, Abbr: Be, Weight: 9.01\n",
            "Name: Boron, Number: 5, Abbr: B, Weight: 10.81\n",
            "Name: Carbon, Number: 6, Abbr: C, Weight: 12.01\n",
            "Name: Nitrogen, Number: 7, Abbr: N, Weight: 14.01\n",
            "Name: Oxygen, Number: 8, Abbr: O, Weight: 16\n",
            "Name: Fluorine, Number: 9, Abbr: F, Weight: 19\n",
            "Name: Neon, Number: 10, Abbr: Ne, Weight: 20.18\n",
            "Name: Sodium, Number: 11, Abbr: Na, Weight: 22.99\n",
            "Name: Magnesium, Number: 12, Abbr: Mg, Weight: 24.31\n",
            "Name: Aluminum, Number: 13, Abbr: Al, Weight: 26.98\n",
            "Name: Silicon, Number: 14, Abbr: Si, Weight: 28.09\n",
            "Name: Phosphorus, Number: 15, Abbr: P, Weight: 30.98\n",
            "Name: Sulfur, Number: 16, Abbr: S, Weight: 32.06\n",
            "Name: Chlorine, Number: 17, Abbr: Cl, Weight: 35.45\n",
            "Name: Argon, Number: 18, Abbr: Ar, Weight: 39.95\n",
            "Name: Potassium, Number: 19, Abbr: K, Weight: 39.1\n",
            "Name: Calcium, Number: 20, Abbr: Ca, Weight: 40.08\n",
            "Name: Scandium, Number: 21, Abbr: Sc, Weight: 44.96\n",
            "Name: Titanium, Number: 22, Abbr: Ti, Weight: 47.9\n",
            "Name: Vanadium, Number: 23, Abbr: V, Weight: 50.94\n",
            "Name: Chromium, Number: 24, Abbr: Cr, Weight: 52\n",
            "Name: Manganese, Number: 25, Abbr: Mn, Weight: 54.94\n",
            "Name: Iron, Number: 26, Abbr: Fe, Weight: 55.85\n",
            "Name: Cobalt, Number: 27, Abbr: Co, Weight: 58.93\n",
            "Name: Nickel, Number: 28, Abbr: Ni, Weight: 58.71\n",
            "Name: Copper, Number: 29, Abbr: Cu, Weight: 63.54\n",
            "Name: Zinc, Number: 30, Abbr: Zn, Weight: 65.37\n",
            "Name: Gallium, Number: 31, Abbr: Ga, Weight: 69.72\n",
            "Name: Germanium, Number: 32, Abbr: Ge, Weight: 72.59\n",
            "Name: Arsenic, Number: 33, Abbr: As, Weight: 74.99\n",
            "Name: Selenium, Number: 34, Abbr: Se, Weight: 78.96\n",
            "Name: Bromine, Number: 35, Abbr: Br, Weight: 79.91\n",
            "Name: Krypton, Number: 36, Abbr: Kr, Weight: 83.8\n",
            "Name: Rubidium, Number: 37, Abbr: Rb, Weight: 85.47\n",
            "Name: Strontium, Number: 38, Abbr: Sr, Weight: 87.62\n",
            "Name: Yttrium, Number: 39, Abbr: Y, Weight: 88.91\n",
            "Name: Zirconium, Number: 40, Abbr: Zr, Weight: 91.22\n",
            "Name: Niobium, Number: 41, Abbr: Nb, Weight: 92.91\n",
            "Name: Molybdenum, Number: 42, Abbr: Mo, Weight: 95.94\n",
            "Name: Technetium, Number: 43, Abbr: Tc, Weight: 96.91\n",
            "Name: Ruthenium, Number: 44, Abbr: Ru, Weight: 101.07\n",
            "Name: Rhodium, Number: 45, Abbr: Rh, Weight: 102.9\n",
            "Name: Palladium, Number: 46, Abbr: Pd, Weight: 106.4\n",
            "Name: Silver, Number: 47, Abbr: Ag, Weight: 107.87\n",
            "Name: Cadmium, Number: 48, Abbr: Cd, Weight: 112.4\n",
            "Name: Indium, Number: 49, Abbr: In, Weight: 114.82\n",
            "Name: Tin, Number: 50, Abbr: Sn, Weight: 118.69\n",
            "Name: Antimony, Number: 51, Abbr: Sb, Weight: 121.75\n",
            "Name: Tellurium, Number: 52, Abbr: Te, Weight: 127.6\n",
            "Name: Iodine, Number: 53, Abbr: I, Weight: 126.9\n",
            "Name: Xenon, Number: 54, Abbr: Xe, Weight: 131.3\n",
            "Name: Cesium, Number: 55, Abbr: Cs, Weight: 132.9\n",
            "Name: Barium, Number: 56, Abbr: Ba, Weight: 137.34\n",
            "Name: Lanthanum, Number: 57, Abbr: La, Weight: 138.91\n",
            "Name: Cerium, Number: 58, Abbr: Ce, Weight: 140.12\n",
            "Name: Praseodymium, Number: 59, Abbr: Pr, Weight: 140.91\n",
            "Name: Neodymium, Number: 60, Abbr: Nd, Weight: 144.24\n",
            "Name: Promethium, Number: 61, Abbr: Pm, Weight: 144.91\n",
            "Name: Samarium, Number: 62, Abbr: Sm, Weight: 150.35\n",
            "Name: Europium, Number: 63, Abbr: Eu, Weight: 151.96\n",
            "Name: Gadolinium, Number: 64, Abbr: Gd, Weight: 157.25\n",
            "Name: Terbium, Number: 65, Abbr: Tb, Weight: 158.92\n",
            "Name: Dysprosium, Number: 66, Abbr: Dy, Weight: 162.5\n",
            "Name: Holmium, Number: 67, Abbr: Ho, Weight: 164.93\n",
            "Name: Erbium, Number: 68, Abbr: Er, Weight: 167.26\n",
            "Name: Thulium, Number: 69, Abbr: Tm, Weight: 168.93\n",
            "Name: Ytterbium, Number: 70, Abbr: Yb, Weight: 173.04\n",
            "Name: Lutetium, Number: 71, Abbr: Lu, Weight: 174.97\n",
            "Name: Hafnium, Number: 72, Abbr: Hf, Weight: 178.49\n",
            "Name: Tantalum, Number: 73, Abbr: Ta, Weight: 180.95\n",
            "Name: Wolfram, Number: 74, Abbr: W, Weight: 183.85\n",
            "Name: Rhenium, Number: 75, Abbr: Re, Weight: 186.2\n",
            "Name: Osmium, Number: 76, Abbr: Os, Weight: 190.2\n",
            "Name: Iridium, Number: 77, Abbr: Ir, Weight: 192.22\n",
            "Name: Platinum, Number: 78, Abbr: Pt, Weight: 195.09\n",
            "Name: Gold, Number: 79, Abbr: Au, Weight: 196.97\n",
            "Name: Mercury, Number: 80, Abbr: Hg, Weight: 200.59\n",
            "Name: Thallium, Number: 81, Abbr: Tl, Weight: 204.37\n",
            "Name: Lead, Number: 82, Abbr: Pb, Weight: 207.19\n",
            "Name: Bismuth, Number: 83, Abbr: Bi, Weight: 208.98\n",
            "Name: Polonium, Number: 84, Abbr: Po, Weight: 208.98\n",
            "Name: Astatine, Number: 85, Abbr: At, Weight: 209.99\n",
            "Name: Radon, Number: 86, Abbr: Rn, Weight: 222.02\n",
            "Name: Francium, Number: 87, Abbr: Fr, Weight: 223.02\n",
            "Name: Radium, Number: 88, Abbr: Ra, Weight: 226\n",
            "Name: Actinium, Number: 89, Abbr: Ac, Weight: 227.03\n",
            "Name: Thorium, Number: 90, Abbr: Th, Weight: 232.04\n",
            "Name: Protactinium, Number: 91, Abbr: Pa, Weight: 231.04\n",
            "Name: Uranium, Number: 92, Abbr: U, Weight: 238.03\n",
            "Name: Neptunium, Number: 93, Abbr: Np, Weight: 237\n",
            "Name: Plutonium, Number: 94, Abbr: Pu, Weight: 242\n",
            "Name: Americium, Number: 95, Abbr: Am, Weight: 243.06\n",
            "Name: Curium, Number: 96, Abbr: Cm, Weight: 247.07\n",
            "Name: Berkelium, Number: 97, Abbr: Bk, Weight: 247.07\n",
            "Name: Californium, Number: 98, Abbr: Cf, Weight: 251.08\n",
            "Name: Einsteinium, Number: 99, Abbr: Es, Weight: 254.09\n",
            "Name: Fermium, Number: 100, Abbr: Fm, Weight: 257.1\n",
            "Name: Mendelevium, Number: 101, Abbr: Md, Weight: 257.1\n",
            "Name: Nobelium, Number: 102, Abbr: No, Weight: 255.09\n",
            "Name: Lawrencium, Number: 103, Abbr: Lr, Weight: 256.1\n"
          ]
        }
      ]
    }
  ]
}