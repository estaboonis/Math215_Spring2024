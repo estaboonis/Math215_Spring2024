{
 "cells": [
  {
   "cell_type": "markdown",
   "id": "ba400c03",
   "metadata": {},
   "source": [
    "## DNA and Protein Alignment!\n",
    "##### Feel free to run the entire program yourself to try it out. The only input needed is the length of the initial sequence--I've been testing it with lengths of a few hundred, but any number should work."
   ]
  },
  {
   "cell_type": "code",
   "execution_count": 5,
   "id": "e9cecf04",
   "metadata": {
    "scrolled": false
   },
   "outputs": [
    {
     "name": "stdout",
     "output_type": "stream",
     "text": [
      "Requirement already satisfied: biopython in c:\\users\\missm\\anaconda3\\lib\\site-packages (1.83)\n",
      "Requirement already satisfied: numpy in c:\\users\\missm\\anaconda3\\lib\\site-packages (from biopython) (1.24.3)\n",
      "Requirement already satisfied: biopython in c:\\users\\missm\\anaconda3\\lib\\site-packages (1.83)\n",
      "Requirement already satisfied: numpy in c:\\users\\missm\\anaconda3\\lib\\site-packages (from biopython) (1.24.3)\n"
     ]
    }
   ],
   "source": [
    "!pip install biopython"
   ]
  },
  {
   "cell_type": "markdown",
   "id": "c94b8c6c",
   "metadata": {},
   "source": [
    "### Generate a random DNA sequence from input length:"
   ]
  },
  {
   "cell_type": "code",
   "execution_count": 8,
   "id": "102a05a8",
   "metadata": {},
   "outputs": [
    {
     "name": "stdout",
     "output_type": "stream",
     "text": [
      "length of DNA sequence: 500\n",
      "DNA sequence: GATGAACAAAGGGTACTCCCGCCAACACTTGCCTCATAGATAACTAGGGAGGTTGCCACCGGGCTCTGTCAAACCCGATTGCGCTCGAGCCCTCCCTCCAGTGGTCGCGTTCAATTTCAAGTGTGTATTAGATGTGCGCTTGTCTGGTCCTGCAAGCTGGTCCTATCGGCCTTACATTTAACTATTTAGTGTGCACGTATCCCAGCCAGGGTCGCGCAGTGCGAACACTTGGCCCCGAATCCTGCGTGAAACAAATTCTAGCCGGGCTACGTATACTCAAGTAGGCTAGTGTAACAAGCTCTGGAGGAAGACAAAAGTTTACTCGCTTTAAAACAAACAACGTCTGTATGGCGGCTATCACTGCAGGAATAGCGGCCATAGAGATCGGAGTTGTGGATTATACTTAACTTAGCTTCCGCTCTGCTACTGCCTATACTCCTGTTATCAGTTAGACCAGATTCGCCCAAAGTTCCATGAGTGTTGCATGACAGTTAGATGAT\n"
     ]
    }
   ],
   "source": [
    "from Bio import SeqIO\n",
    "from Bio.Seq import Seq\n",
    "import random\n",
    "\n",
    "desired_length = int(input(\"length of DNA sequence: \"))\n",
    "nucleotides = 'ACTG'\n",
    "randomDNA_list = []\n",
    "\n",
    "for k in range(desired_length):\n",
    "    randomDNA_list.append(random.choice(nucleotides))\n",
    "\n",
    "randomDNA_str = ''.join(randomDNA_list)\n",
    "\n",
    "myseq = Seq(randomDNA_str)\n",
    "print(f\"DNA sequence: {myseq}\")"
   ]
  },
  {
   "cell_type": "markdown",
   "id": "7fc16463",
   "metadata": {},
   "source": [
    "### Run DNA sequence through BLAST and save the search results to a file:\n",
    "(this takes several minutes to run)"
   ]
  },
  {
   "cell_type": "code",
   "execution_count": 9,
   "id": "587b8f59",
   "metadata": {},
   "outputs": [],
   "source": [
    "from Bio import Blast\n",
    "from Bio.Blast import NCBIWWW\n",
    "result_handle = NCBIWWW.qblast(\"blastn\", \"nt\", f\"{myseq}\", hitlist_size=5)\n",
    "\n",
    "with open(\"blast_result.xml\", \"w+\") as save_to:\n",
    "    save_to.write(result_handle.read())\n",
    "    result_handle.close()"
   ]
  },
  {
   "cell_type": "markdown",
   "id": "f3b631f4",
   "metadata": {},
   "source": [
    "NCBI's BLAST (basic local alignment search tool) allows you to use a nucleotide or potein sequence to search NCBI's databases for similar sequences and align these sequences."
   ]
  },
  {
   "cell_type": "markdown",
   "id": "c3627e02",
   "metadata": {},
   "source": [
    "### Read BLAST result file and display the top 5 results (most similar sequences) aligned with the original DNA sequence:"
   ]
  },
  {
   "cell_type": "code",
   "execution_count": 50,
   "id": "d5b86105",
   "metadata": {},
   "outputs": [
    {
     "name": "stdout",
     "output_type": "stream",
     "text": [
      "Alignment #1\n",
      "Sequence: gi|1229155446|ref|XM_022234729.1| PREDICTED: Acanthaster planci uncharacterized LOC110979164 (LOC110979164), transcript variant X1, mRNA\n",
      "Length: 2934\n",
      "E value: 2.385\n",
      "TATACTCAAGTA-GGCTAGTGTAACAAGCTCTGGAGGAAGACA\n",
      "||| ||| |||| |||| |||| ||||||||||| ||||||||\n",
      "TATCCTCCAGTATGGCTGGTGTTACAAGCTCTGGTGGAAGACA\n",
      "\n",
      "Alignment #2\n",
      "Sequence: gi|2303474184|emb|OX243835.2| Herminia tarsipennalis genome assembly, chromosome: 5\n",
      "Length: 30125787\n",
      "E value: 2.385\n",
      "TATACTTAACTTAGCTTCCGCTCTGCTACTGCCTATACTCCTGTTATCAGT\n",
      "|||||||||||||||| | | ||| | |||| || ||  ||||||||| ||\n",
      "TATACTTAACTTAGCTCCTGGTCTACAACTGACTTTATCCCTGTTATCTGT\n",
      "\n",
      "Alignment #3\n",
      "Sequence: gi|2710185569|gb|CP137598.1| Eragrostis tef cultivar Dabbi chromosome 9A\n",
      "Length: 24589398\n",
      "E value: 8.32447\n",
      "TCAATTTCAAGTGTGTATTAGATGTGCGCTTGTCT\n",
      "|||||||||||| |||||||  | |||||||||||\n",
      "TCAATTTCAAGTTTGTATTAATTTTGCGCTTGTCT\n",
      "\n",
      "Alignment #4\n",
      "Sequence: gi|2031568835|ref|XM_041154806.1| PREDICTED: Juglans microcarpa x Juglans regia protein SHORT ROOT IN SALT MEDIUM 1-like (LOC121254681), transcript variant X2, mRNA\n",
      "Length: 4462\n",
      "E value: 8.32447\n",
      "TCAGTTAGACCAGATTCGCCCAAAGTTCCAT-GAGTG\n",
      "|||||||||||||||||||| ||| || ||| |||||\n",
      "TCAGTTAGACCAGATTCGCCTAAATTTGCATCGAGTG\n",
      "\n",
      "Alignment #5\n",
      "Sequence: gi|2031568833|ref|XM_041154805.1| PREDICTED: Juglans microcarpa x Juglans regia protein SHORT ROOT IN SALT MEDIUM 1-like (LOC121254681), transcript variant X1, mRNA\n",
      "Length: 4507\n",
      "E value: 8.32447\n",
      "TCAGTTAGACCAGATTCGCCCAAAGTTCCAT-GAGTG\n",
      "|||||||||||||||||||| ||| || ||| |||||\n",
      "TCAGTTAGACCAGATTCGCCTAAATTTGCATCGAGTG\n",
      "\n"
     ]
    }
   ],
   "source": [
    "from Bio import Blast\n",
    "from Bio.Blast import NCBIXML\n",
    "result_handle = open(\"blast_result.xml\", \"r\")\n",
    "blast_record = NCBIXML.read(result_handle)\n",
    "\n",
    "count=1\n",
    "for alignment in blast_record.alignments:\n",
    "    for hsp in alignment.hsps:\n",
    "        if count == 1:\n",
    "            subject1 = hsp.sbjct\n",
    "            query1 = hsp.query\n",
    "        print(f\"Alignment #{count}\")\n",
    "        print(\"Sequence:\", alignment.title)\n",
    "        print(\"Length:\", alignment.length)\n",
    "        print(\"E value:\", hsp.expect)\n",
    "        print(hsp.query)\n",
    "        print(hsp.match)\n",
    "        print(hsp.sbjct)\n",
    "        print()\n",
    "        count += 1"
   ]
  },
  {
   "cell_type": "markdown",
   "id": "6f0efcd5",
   "metadata": {},
   "source": [
    "### Create functions for displaying alignment plots:"
   ]
  },
  {
   "cell_type": "code",
   "execution_count": 65,
   "id": "a02eca5c",
   "metadata": {},
   "outputs": [],
   "source": [
    "import numpy as np\n",
    "import matplotlib as plt\n",
    "import matplotlib.pyplot as pltpy\n",
    "import sys\n",
    "import numpy\n",
    "numpy.set_printoptions(threshold=sys.maxsize)\n",
    "\n",
    "def fillMatrix(M):\n",
    "    ct = 0\n",
    "    M[0][0] = \" \"\n",
    "    for r in range(1, M.shape[0]):\n",
    "        for c in range(1, M.shape[1]):\n",
    "            if M[r][0] == M[0][c]:\n",
    "                M[r][c] = \"*\"\n",
    "                if r == c:\n",
    "                    ct += 1\n",
    "            else:\n",
    "                M[r][c] = \" \"\n",
    "    incorr = M.shape[0] - ct - 1\n",
    "    print(f\"Number of aligned bases: {ct}\")\n",
    "    print(f\"Number of unaligned bases: {incorr}\")\n",
    "    print()\n",
    "\n",
    "def fill_print(sequence1, sequence2):\n",
    "    D = np.zeros([len(sequence1)+1, len(sequence2)+1], dtype = str)\n",
    "    for r in range(0, len(sequence1)):\n",
    "        D[r+1][0] = sequence1[r:r+1]\n",
    "    for c in range(0, len(sequence2)):\n",
    "        D[0][c+1] = sequence2[c:c+1]\n",
    "    fillMatrix(D)\n",
    "    print(D)\n",
    "    \n",
    "def fill_plot(sequence1, sequence2):\n",
    "    D = np.zeros([len(sequence1)+1, len(sequence2)+1], dtype = str)\n",
    "    for r in range(0, len(sequence1)):\n",
    "        D[r+1][0] = sequence1[r:r+1]\n",
    "    for c in range(0, len(sequence2)):\n",
    "        D[0][c+1] = sequence2[c:c+1]\n",
    "    fillMatrix(D)\n",
    "    cmap = plt.colors.ListedColormap([\"black\", \"white\"])\n",
    "    bounds = [0,0.5,1]\n",
    "    norm = plt.colors.BoundaryNorm(bounds, cmap.N)\n",
    "    fig, ax = pltpy.subplots(figsize=(10, 10), dpi=70)\n",
    "    D_red = np.delete(D, 0, axis=1)\n",
    "    D_red = np.delete(D_red, 0, axis=0)\n",
    "    D_red_log = D_red == \"*\"\n",
    "    pltpy.xlabel(\"query\", fontsize=15)\n",
    "    pltpy.ylabel(\"subject\", fontsize=15)\n",
    "    ax.imshow(D_red_log, cmap=cmap, norm=norm)"
   ]
  },
  {
   "cell_type": "markdown",
   "id": "66a544d2",
   "metadata": {},
   "source": [
    "### DNA alignment plot for the random DNA sequence (query) and the #1 most similar sequence from BLAST (subject):"
   ]
  },
  {
   "cell_type": "code",
   "execution_count": 66,
   "id": "b154cda0",
   "metadata": {},
   "outputs": [
    {
     "name": "stdout",
     "output_type": "stream",
     "text": [
      "Subject vs Query DNA alignment dotplot\n",
      "\n",
      "Number of aligned bases: 37\n",
      "Number of unaligned bases: 6\n",
      "\n"
     ]
    },
    {
     "data": {
      "image/png": "[encoded data removed]",
      "text/plain": [
       "<Figure size 700x700 with 1 Axes>"
      ]
     },
     "metadata": {},
     "output_type": "display_data"
    }
   ],
   "source": [
    "print(\"Subject vs Query DNA alignment dotplot\")\n",
    "print()\n",
    "fill_plot(subject1, query1)"
   ]
  },
  {
   "cell_type": "markdown",
   "id": "1a3409aa",
   "metadata": {},
   "source": [
    "How to read a dotplot: each axis represents a sequence to be compared (DNA, in this case). White spots on the plot denote locations where nucleotides (or amino acids, for a protein alignment) align. Black spots show any mismatched/unaligned locations. A diagonal line of white spots (from top left to bottom right) should be apparent if the sequences are well-aligned."
   ]
  },
  {
   "cell_type": "markdown",
   "id": "cf4fd50f",
   "metadata": {},
   "source": [
    "### Transcribe and translate both DNA sequences to RNA and protein sequences:"
   ]
  },
  {
   "cell_type": "code",
   "execution_count": 46,
   "id": "ed5f89ce",
   "metadata": {},
   "outputs": [
    {
     "name": "stdout",
     "output_type": "stream",
     "text": [
      "subject DNA sequence: TATCCTCCAGTATGGCTGGTGTTACAAGCTCTGGTGGAAGACA\n",
      "query DNA sequence:   TATACTCAAGTA-GGCTAGTGTAACAAGCTCTGGAGGAAGACA\n",
      "\n",
      "subject RNA sequence: UAUCCUCCAGUAUGGCUGGUGUUACAAGCUCUGGUGGAAGACANN\n",
      "query RNA sequence:   UAUACUCAAGUANGGCUAGUGUAACAAGCUCUGGAGGAAGACANN\n",
      "\n",
      "subject amino acid sequence: YPPVWLVLQALVEDX\n",
      "query amino acid sequence:   YTQVXLV*QALEEDX\n"
     ]
    }
   ],
   "source": [
    "print(f\"subject DNA sequence: {subject1}\")\n",
    "print(f\"query DNA sequence:   {query1}\")\n",
    "print()\n",
    "\n",
    "if (len(subject1) % 3) == 1:\n",
    "    subject1 = subject1 + \"NN\"\n",
    "if (len(subject1) % 3) == 2:\n",
    "    subject1 = subject1 + \"N\"\n",
    "if (len(query1) % 3) == 1:\n",
    "    query1 = query1 + \"NN\"\n",
    "if (len(query1) % 3) == 2:\n",
    "    query1 = query1 + \"N\"\n",
    "for char in subject1:\n",
    "    if char == \"-\":\n",
    "        subject1 = subject1.replace(\"-\", \"N\")\n",
    "for char in query1:\n",
    "    if char == \"-\":\n",
    "        query1 = query1.replace(\"-\", \"N\")\n",
    "\n",
    "subj_seq = Seq(subject1)\n",
    "query_seq = Seq(query1)\n",
    "\n",
    "subj_transc=subj_seq.transcribe()\n",
    "print(f\"subject RNA sequence: {subj_transc}\")\n",
    "query_transc=query_seq.transcribe()\n",
    "print(f\"query RNA sequence:   {query_transc}\")\n",
    "print()\n",
    "\n",
    "subj_transl=subj_transc.translate()\n",
    "print(f\"subject amino acid sequence: {subj_transl}\")\n",
    "query_transl=query_transc.translate()\n",
    "print(f\"query amino acid sequence:   {query_transl}\")"
   ]
  },
  {
   "cell_type": "markdown",
   "id": "71b4d89e",
   "metadata": {},
   "source": [
    "### Protein alignment plots for the random sequence (query) and the #1 most similar sequence from BLAST (subject):"
   ]
  },
  {
   "cell_type": "code",
   "execution_count": 62,
   "id": "ee726881",
   "metadata": {},
   "outputs": [
    {
     "name": "stdout",
     "output_type": "stream",
     "text": [
      "Subject vs Query protein alignment matrix\n",
      "\n",
      "Number of aligned bases: 10\n",
      "Number of unaligned bases: 5\n",
      "\n",
      "[[' ' 'Y' 'T' 'Q' 'V' 'X' 'L' 'V' '*' 'Q' 'A' 'L' 'E' 'E' 'D' 'X']\n",
      " ['Y' '*' ' ' ' ' ' ' ' ' ' ' ' ' ' ' ' ' ' ' ' ' ' ' ' ' ' ' ' ']\n",
      " ['P' ' ' ' ' ' ' ' ' ' ' ' ' ' ' ' ' ' ' ' ' ' ' ' ' ' ' ' ' ' ']\n",
      " ['P' ' ' ' ' ' ' ' ' ' ' ' ' ' ' ' ' ' ' ' ' ' ' ' ' ' ' ' ' ' ']\n",
      " ['V' ' ' ' ' ' ' '*' ' ' ' ' '*' ' ' ' ' ' ' ' ' ' ' ' ' ' ' ' ']\n",
      " ['W' ' ' ' ' ' ' ' ' ' ' ' ' ' ' ' ' ' ' ' ' ' ' ' ' ' ' ' ' ' ']\n",
      " ['L' ' ' ' ' ' ' ' ' ' ' '*' ' ' ' ' ' ' ' ' '*' ' ' ' ' ' ' ' ']\n",
      " ['V' ' ' ' ' ' ' '*' ' ' ' ' '*' ' ' ' ' ' ' ' ' ' ' ' ' ' ' ' ']\n",
      " ['L' ' ' ' ' ' ' ' ' ' ' '*' ' ' ' ' ' ' ' ' '*' ' ' ' ' ' ' ' ']\n",
      " ['Q' ' ' ' ' '*' ' ' ' ' ' ' ' ' ' ' '*' ' ' ' ' ' ' ' ' ' ' ' ']\n",
      " ['A' ' ' ' ' ' ' ' ' ' ' ' ' ' ' ' ' ' ' '*' ' ' ' ' ' ' ' ' ' ']\n",
      " ['L' ' ' ' ' ' ' ' ' ' ' '*' ' ' ' ' ' ' ' ' '*' ' ' ' ' ' ' ' ']\n",
      " ['V' ' ' ' ' ' ' '*' ' ' ' ' '*' ' ' ' ' ' ' ' ' ' ' ' ' ' ' ' ']\n",
      " ['E' ' ' ' ' ' ' ' ' ' ' ' ' ' ' ' ' ' ' ' ' ' ' '*' '*' ' ' ' ']\n",
      " ['D' ' ' ' ' ' ' ' ' ' ' ' ' ' ' ' ' ' ' ' ' ' ' ' ' ' ' '*' ' ']\n",
      " ['X' ' ' ' ' ' ' ' ' '*' ' ' ' ' ' ' ' ' ' ' ' ' ' ' ' ' ' ' '*']]\n"
     ]
    }
   ],
   "source": [
    "print(\"Subject vs Query protein alignment matrix\")\n",
    "print()\n",
    "subj_prot = str(subj_transl)\n",
    "query_prot = str(query_transl)\n",
    "fill_print(subj_prot, query_prot)"
   ]
  },
  {
   "cell_type": "markdown",
   "id": "1e815dd0",
   "metadata": {},
   "source": [
    "Alignment matrices (as shown above) convey similar information to dotplots, they just offer a different format. Asterisks denote locations of aligned amino acids. These matrices can be used for DNA/RNA sequences as well, but Jupyter doesn't like to display the matrices correctly when they get to be bigger (for longer sequences)."
   ]
  },
  {
   "cell_type": "code",
   "execution_count": 67,
   "id": "d7f1cd82",
   "metadata": {},
   "outputs": [
    {
     "name": "stdout",
     "output_type": "stream",
     "text": [
      "Subject vs Query protein alignment dotplot\n",
      "\n",
      "Number of aligned bases: 10\n",
      "Number of unaligned bases: 5\n",
      "\n"
     ]
    },
    {
     "data": {
      "image/png": "[encoded data removed]",
      "text/plain": [
       "<Figure size 700x700 with 1 Axes>"
      ]
     },
     "metadata": {},
     "output_type": "display_data"
    }
   ],
   "source": [
    "print(\"Subject vs Query protein alignment dotplot\")\n",
    "print()\n",
    "fill_plot(subj_prot, query_prot)"
   ]
  }
 ],
 "metadata": {
  "kernelspec": {
   "display_name": "Python 3 (ipykernel)",
   "language": "python",
   "name": "python3"
  },
  "language_info": {
   "codemirror_mode": {
    "name": "ipython",
    "version": 3
   },
   "file_extension": ".py",
   "mimetype": "text/x-python",
   "name": "python",
   "nbconvert_exporter": "python",
   "pygments_lexer": "ipython3",
   "version": "3.11.5"
  }
 },
 "nbformat": 4,
 "nbformat_minor": 5
}
