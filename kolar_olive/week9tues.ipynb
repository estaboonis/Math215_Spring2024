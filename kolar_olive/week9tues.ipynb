{
 "cells": [
  {
   "cell_type": "markdown",
   "metadata": {
    "id": "_bRZQQUtt4-a"
   },
   "source": [
    "# Discussion of Midterm 1\n",
    "\n",
    "[Solution Here](https://colab.research.google.com/drive/1LUFvBQeSHWI-Sy-u1YPiPsPFaPoFw4Rc?usp=sharing)"
   ]
  },
  {
   "cell_type": "markdown",
   "metadata": {
    "id": "l8m69snJt8SR"
   },
   "source": [
    "# Practice 1: improve the password meter\n",
    "\n",
    "Take the code from Q5 in Midterm. Improve it by\n",
    "\n",
    "\n",
    "*   prompt user with specific guidelines when password fails; also, give a suggested randomized password that meets the requirements\n",
    "*   expires if tried more than 5 times and prompt \"no more try in 5 minutes\"\n",
    "*   design a way to rate a password that does pass all requirements. It can be rated by a score from your designed algorithm, or by several levels:\n",
    "    *   weak\n",
    "    *   moderate\n",
    "    *   strong\n",
    "    *   excellent\n",
    "*   whatever other features you can think of to make it more user friendly\n",
    "\n"
   ]
  },
  {
   "cell_type": "code",
   "execution_count": null,
   "metadata": {
    "id": "q23AWVQsuy8j"
   },
   "outputs": [],
   "source": []
  },
  {
   "cell_type": "markdown",
   "metadata": {
    "id": "Bfm_ViCJv1ZN"
   },
   "source": [
    "# Practice 2: Numerical Integration\n",
    "\n",
    "In Week 06-07, we have seen how to use dictionaries to represent polynomials and do algebra on them as well as taking derivatives.\n",
    "\n",
    "Take codes from there, and write a new function that does the numerical integration via Riemann Sum. Your function should take inputs of\n",
    "\n",
    "\n",
    "*   a polynomial\n",
    "*   the integration interval\n",
    "*   choice of left, or middle, or right height\n",
    "*   number of sub-intervals\n",
    "\n",
    "and return the integral value.\n",
    "\n"
   ]
  },
  {
   "cell_type": "code",
   "execution_count": 25,
   "metadata": {
    "id": "vSD8HObV2V8V"
   },
   "outputs": [
    {
     "name": "stdout",
     "output_type": "stream",
     "text": [
      "interval start1\n",
      "interval end5\n",
      "position (left, right, middle)left\n",
      "number of subintervals4\n",
      "46.0\n"
     ]
    }
   ],
   "source": [
    "def eval_poly(poly, x):\n",
    "    value = 0\n",
    "    for i in poly.keys():\n",
    "        value += (x**i) * poly[i]\n",
    "    return value\n",
    "\n",
    "def riemann(poly, intervalstart, intervalend, position, subintervals):\n",
    "    sublength = ((intervalend-intervalstart)/subintervals)\n",
    "    total = 0\n",
    "    if position == \"left\":\n",
    "        for i in range(1, subintervals+1):\n",
    "            total += sublength * (eval_poly(poly, i))\n",
    "    elif position == \"right\":\n",
    "        for i in range(1, subintervals+2):\n",
    "            total += sublength * (eval_poly(poly, i))\n",
    "    elif position == \"middle\":\n",
    "        for i in range(1, ((subintervals + subintervals-1 +1)/2)):\n",
    "            total += sublength * (eval_poly(poly, i))\n",
    "        #### horribly incorrect\n",
    "    return total\n",
    "\n",
    "poly = {2:1, 0:4}\n",
    "intervalstart = int(input(\"interval start\"))\n",
    "intervalend = int(input(\"interval end\"))\n",
    "position = input(\"position (left, right, middle)\")\n",
    "subintervals = int(input(\"number of subintervals\"))\n",
    "\n",
    "print(riemann(poly, intervalstart, intervalend, position, subintervals))"
   ]
  },
  {
   "cell_type": "markdown",
   "metadata": {
    "id": "sfmdM3pKxkOD"
   },
   "source": [
    "### from Week 7: Dictionary for Polynomials"
   ]
  },
  {
   "cell_type": "code",
   "execution_count": 2,
   "metadata": {
    "colab": {
     "base_uri": "https://localhost:8080/"
    },
    "id": "mm16mbKg3KRv",
    "outputId": "307f19ef-f4eb-4a07-e031-00c05ff4c841"
   },
   "outputs": [
    {
     "name": "stdout",
     "output_type": "stream",
     "text": [
      "{5: 3, 2: 8.3, 0: 4}\n",
      "{4: -6.5, 2: 12, 0: 15}\n"
     ]
    }
   ],
   "source": [
    "# Create p(x) = 3x^5 + 8.3x^2 + 4\n",
    "poly_1 = {}\n",
    "poly_1[5] = 3\n",
    "poly_1[2] = 8.3\n",
    "poly_1[0] = 4\n",
    "\n",
    "# Create p(x) = -6.5x^4 + 12 x^2 + 15\n",
    "poly_2 = {}\n",
    "poly_2[4] = -6.5\n",
    "poly_2[2] = 12\n",
    "poly_2[0] = 15\n",
    "\n",
    "print(poly_1)\n",
    "print(poly_2)"
   ]
  },
  {
   "cell_type": "code",
   "execution_count": 5,
   "metadata": {
    "colab": {
     "base_uri": "https://localhost:8080/",
     "height": 211
    },
    "id": "U9orwLiP3NCe",
    "outputId": "2cbb787f-6204-4d8b-e96b-012b1443228a"
   },
   "outputs": [
    {
     "name": "stdout",
     "output_type": "stream",
     "text": [
      "['8.3 x^2', '3.0 x^5']\n",
      "3.0 x^5  +  8.3 x^2  +  4.0\n"
     ]
    }
   ],
   "source": [
    "def print_poly(p):\n",
    "    # delete the constant term\n",
    "\n",
    "    terms = [f'{p[k]:.1f} x^{k}' for k in sorted(p) ]\n",
    "    del terms[0]\n",
    "    print(terms)\n",
    "\n",
    "    terms.reverse()\n",
    "    # add the constant term without x\n",
    "\n",
    "    terms += [f'{p[0]:.1f}']\n",
    "\n",
    "    answer = '  +  '.join(terms)\n",
    "\n",
    "    print(answer)\n",
    "\n",
    "print_poly(poly_1)"
   ]
  },
  {
   "cell_type": "markdown",
   "metadata": {
    "id": "Whn9XmHq3kL4"
   },
   "source": [
    "#### Task 3.1: modify the `print_poly` function so that the constant term doesn't print `x^0`"
   ]
  },
  {
   "cell_type": "markdown",
   "metadata": {
    "id": "pCElWctx3vgE"
   },
   "source": [
    "#### Task 3.2: Write a `eval_poly()` function to evaluate a given polynomial `p` at a given value `x`"
   ]
  },
  {
   "cell_type": "code",
   "execution_count": 3,
   "metadata": {
    "colab": {
     "base_uri": "https://localhost:8080/"
    },
    "id": "X-ToVC1B4GOO",
    "outputId": "ab612a3c-b6b7-4d66-84b4-760192a563e8"
   },
   "outputs": [
    {
     "name": "stdout",
     "output_type": "stream",
     "text": [
      "9.3\n"
     ]
    }
   ],
   "source": [
    "def eval_poly(p, x):\n",
    "#  your code here\n",
    "    value = 0\n",
    "    for i in p.keys():\n",
    "        value += (x**i) * p[i]\n",
    "\n",
    "    return value\n",
    "\n",
    "# To test\n",
    "print(eval_poly(poly_1, -1))  # should be 9.3"
   ]
  },
  {
   "cell_type": "markdown",
   "metadata": {
    "id": "aumzZfae4VBQ"
   },
   "source": [
    "#### Task 3.3: write the `add_polys()` function to add two polynomials together."
   ]
  },
  {
   "cell_type": "code",
   "execution_count": 5,
   "metadata": {
    "colab": {
     "base_uri": "https://localhost:8080/"
    },
    "id": "P62tVAZd4nNr",
    "outputId": "0de6f536-7a97-4b08-ed2e-248b9320e481"
   },
   "outputs": [
    {
     "name": "stdout",
     "output_type": "stream",
     "text": [
      "['20.3 x^2', '-6.5 x^4', '3.0 x^5']\n",
      "3.0 x^5  +  -6.5 x^4  +  20.3 x^2  +  19.0\n"
     ]
    }
   ],
   "source": [
    "def add_polys(p1, p2):\n",
    "    # Add the polynomials stored in dictionaries p1 and p2\n",
    "    p3 = {}\n",
    "    for key in p1.keys():\n",
    "        p3[key] = p1[key]\n",
    "\n",
    "    for i in p2.keys():\n",
    "        if i in p3.keys():\n",
    "            p3[i] += p2[i]\n",
    "        else:\n",
    "            p3[i] = p2[i]\n",
    "\n",
    "    return p3\n",
    "\n",
    "# To test\n",
    "poly_3 = add_polys(poly_1, poly_2)\n",
    "print_poly(poly_3)  # should be 3x^5 - 6.5x^4 + 20.3 x^2 + 19"
   ]
  },
  {
   "cell_type": "markdown",
   "metadata": {
    "id": "jsnykgAM5EQP"
   },
   "source": [
    "Task 3.4: write the `deriv()` function to take derivative of the polynomial"
   ]
  },
  {
   "cell_type": "code",
   "execution_count": 6,
   "metadata": {
    "colab": {
     "base_uri": "https://localhost:8080/"
    },
    "id": "Ux5Db4DNjMRC",
    "outputId": "0bc564ec-7e89-4f1d-d480-b26095823667"
   },
   "outputs": [
    {
     "name": "stdout",
     "output_type": "stream",
     "text": [
      "{5: 3, 2: 20.3, 0: 19, 4: -6.5}\n"
     ]
    },
    {
     "data": {
      "text/plain": [
       "{4: 15, 1: 40.6, 3: -26.0}"
      ]
     },
     "execution_count": 6,
     "metadata": {},
     "output_type": "execute_result"
    }
   ],
   "source": [
    "def deriv(p):\n",
    "    # return the derivative of p as a dictionary polynomial\n",
    "    dp = {}\n",
    "    # your code here\n",
    "    for key in p.keys():\n",
    "        if key != 0:\n",
    "            dp[key - 1] = key * p[key]\n",
    "\n",
    "    return dp\n",
    "\n",
    "# To test\n",
    "print(add_polys(poly_1, poly_2))\n",
    "deriv(add_polys(poly_1, poly_2))"
   ]
  },
  {
   "cell_type": "code",
   "execution_count": null,
   "metadata": {
    "colab": {
     "base_uri": "https://localhost:8080/"
    },
    "id": "npSIri-vFykW",
    "outputId": "57780c9d-866e-4de5-b9c3-0f7d483d0970"
   },
   "outputs": [
    {
     "name": "stdout",
     "output_type": "stream",
     "text": [
      "{5: 3, 2: 284.3, 0: 349, 4: -149.5} {4: -6.5, 2: 12, 0: 15}\n"
     ]
    }
   ],
   "source": [
    "print(poly_1, poly_2)"
   ]
  }
 ],
 "metadata": {
  "colab": {
   "provenance": []
  },
  "kernelspec": {
   "display_name": "Python 3 (ipykernel)",
   "language": "python",
   "name": "python3"
  },
  "language_info": {
   "codemirror_mode": {
    "name": "ipython",
    "version": 3
   },
   "file_extension": ".py",
   "mimetype": "text/x-python",
   "name": "python",
   "nbconvert_exporter": "python",
   "pygments_lexer": "ipython3",
   "version": "3.11.5"
  }
 },
 "nbformat": 4,
 "nbformat_minor": 1
}
