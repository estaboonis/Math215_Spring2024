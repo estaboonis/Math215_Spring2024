{
 "cells": [
  {
   "cell_type": "markdown",
   "id": "7d70718f-c25a-447a-aa99-2684087faa91",
   "metadata": {
    "tags": []
   },
   "source": [
    "## **Magnets and Matrices - The Ising Model**\n"
   ]
  },
  {
   "cell_type": "markdown",
   "id": "bca9dc17-60a1-4a66-a759-40a193a0feb0",
   "metadata": {},
   "source": [
    "![](imgs/allign.png)"
   ]
  },
  {
   "cell_type": "markdown",
   "id": "a0a0b5dc-98c3-48ed-8737-285ea269de37",
   "metadata": {},
   "source": [
    "![](imgs/im.jpg)"
   ]
  },
  {
   "cell_type": "markdown",
   "id": "6bd69c4e-cd26-4a8e-afb8-80f891d6aca3",
   "metadata": {},
   "source": [
    "${\\sigma}$ = \n",
    "\\begin{bmatrix}\n",
    "1 & 1 & 1 & 1 & -1 & -1 & 1 & 1 & 1 & -1 & 1 & 1 \\\\\n",
    "1 & -1 & 1 & 1 & 1 & 1 & 1 & -1 & -1 & -1 & 1 & -1 \\\\\n",
    "-1 & 1 & -1 & 1 & -1 & -1 & -1 & -1 & -1 & 1 & 1 & -1 \\\\\n",
    "-1 & 1 & -1 & -1 & 1 & 1 & -1 & -1 & 1 & -1 & -1 & 1 \\\\\n",
    "-1 & -1 & -1 & 1 & -1 & -1 & -1 & -1 & 1 & -1 & -1 & -1 \\\\\n",
    "1 & -1 & -1 & 1 & 1 & -1 & -1 & -1 & -1 & 1 & 1 & -1 \\\\\n",
    "1 & -1 & 1 & -1 & 1 & 1 & -1 & -1 & 1 & 1 & -1 & -1 \\\\\n",
    "1 & -1 & 1 & -1 & -1 & -1 & 1 & 1 & 1 & 1 & -1 & -1 \\\\\n",
    "1 & -1 & -1 & -1 & 1 & -1 & 1 & 1 & -1 & 1 & 1 & 1 \\\\\n",
    "-1 & -1 & 1 & -1 & -1 & 1 & -1 & -1 & -1 & -1 & 1 & -1 \\\\\n",
    "1 & -1 & 1 & 1 & -1 & -1 & 1 & 1 & 1 & -1 & -1 & -1 \\\\\n",
    "1 & 1 & 1 & 1 & 1 & 1 & -1 & -1 & 1 & -1 & 1 & 1\n",
    "\\end{bmatrix}\n",
    "\n",
    "\n",
    "${\\displaystyle H(\\sigma )=-J\\sum _{\\langle i~j\\rangle }\\sigma _{i}\\sigma _{j}.}$\n",
    "\n",
    "*The model is also evaluated under periodic boundary conditions, so $\\sigma_{N+1}$ = $\\sigma_1$ and $\\sigma_0$ = $\\sigma_N$\n",
    "\n"
   ]
  },
  {
   "cell_type": "markdown",
   "id": "30567b4c-dd2d-4097-85d7-5516f1e6b636",
   "metadata": {
    "tags": []
   },
   "source": [
    "$\n",
    "{\\displaystyle P_{\\beta }(\\sigma )={\\frac {e^{-\\beta H(\\sigma )}}{Z_{\\beta }}}}\n",
    "$\n",
    "  Is the probability of being in a given state ${\\sigma}$. We use this to guess what the atoms of a magnet look like based on temperature!\n",
    "\n",
    "And,\n",
    "\n",
    "$\n",
    "{\\displaystyle Z_{\\beta }=\\sum _{\\sigma }e^{-\\beta H(\\sigma )}}\n",
    "$\n",
    "  Is what is known as Partition Function, it is like a normalizing factor so all of the probabilities in the probability distribution add up to 1\n",
    "\n",
    "\n",
    "**PROBLEM!!!**\n",
    "\n",
    " + For a 128x128 matrix (the size of my example) there are $2^{16384}$. This makes things impossible to compute very fast. For reference, the number of atoms in the universe is estimated to be $10^{80}$ and this number is on the order of $10^{4993}$\n",
    "\n",
    "\n",
    "\n",
    "**What can we do?**\n",
    " + We can use the Monte Carlo Method!!!\n",
    " + We use the 2nd law of thermodynamics to construct a simple way to find what the lattice might look like at a given temperature\n",
    " \n",
    "The Algorithm we use:\n",
    "1) Pick a random place on the lattice and flip it\n",
    "2) Find the change in energy (did energy increase or decrease?)\n",
    "3) If energy decreases, accept change (Obeying the 2nd Law)\n",
    "4) If energy increases, accept the change with a conditional probability\n",
    "5) Repeat until averge change in energy approaches 0 (equilibrium)\n",
    "\n",
    "What you are left with is a model that shows what the particles of a magnet look like at a given temperature"
   ]
  },
  {
   "cell_type": "markdown",
   "id": "d44071d3-d29f-485f-9d82-c0fc39655040",
   "metadata": {},
   "source": [
    "![](imgs/dlnldbvkbt.png)"
   ]
  }
 ],
 "metadata": {
  "kernelspec": {
   "display_name": "Python 3 (ipykernel)",
   "language": "python",
   "name": "python3"
  },
  "language_info": {
   "codemirror_mode": {
    "name": "ipython",
    "version": 3
   },
   "file_extension": ".py",
   "mimetype": "text/x-python",
   "name": "python",
   "nbconvert_exporter": "python",
   "pygments_lexer": "ipython3",
   "version": "3.11.5"
  }
 },
 "nbformat": 4,
 "nbformat_minor": 5
}
